{
 "cells": [
  {
   "attachments": {},
   "cell_type": "markdown",
   "metadata": {},
   "source": [
    "### <font color='#005b96'>Data Science Aplicada à Área de Saúde</font><br>\n",
    "><font color='#438496'>***DS *** **| Introdução a Programação em python</font>\n",
    "<br>\n",
    "><font color='#438496'>professor *Mateus Carbone Ananias*</font>"
   ]
  },
  {
   "attachments": {},
   "cell_type": "markdown",
   "metadata": {},
   "source": [
    "---"
   ]
  },
  {
   "attachments": {},
   "cell_type": "markdown",
   "metadata": {},
   "source": [
    "### <font color='#005b96'>Table of Contents</font>\n",
    "\n",
    "- [Numpy](#np)\n",
    "- [Exercício 1](#e1)\n",
    "- [Pandas](#pd)\n",
    "- [Matplotlib](#plt)\n",
    "- [Seaborn](#sns)\n",
    "- [Exercício 2](#e2)"
   ]
  },
  {
   "attachments": {},
   "cell_type": "markdown",
   "metadata": {},
   "source": [
    "---\n",
    "## <font color='#005b96'>**Introdução** </font></a>"
   ]
  },
  {
   "attachments": {},
   "cell_type": "markdown",
   "metadata": {},
   "source": [
    "Um cientista de dados é responsável por uma variedade de tarefas relacionadas à análise de dados para extrair insights úteis e construir modelos preditivos. Aqui estão algumas das principais atividades que um cientista de dados geralmente realiza:\n",
    "\n",
    "1. **Coleta de dados**: Isso envolve identificar e obter conjuntos de dados relevantes para a análise. Os dados podem vir de várias fontes, como bancos de dados, arquivos CSV.\n",
    "\n",
    "2. **Limpeza de dados**: Muitas vezes, os dados brutos contêm erros, valores ausentes ou inconsistências que precisam ser tratadas antes da análise. A limpeza de dados envolve remover ou corrigir esses problemas para garantir que os dados estejam prontos para análise.\n",
    "\n",
    "3. **Exploração de dados**: Antes de construir modelos ou extrair insights, é importante entender os dados. Isso envolve explorar os dados usando estatísticas descritivas, visualizações e outras técnicas para identificar padrões, tendências e anomalias.\n",
    "\n",
    "4. **Preparação de dados**: Preparar os dados para análise muitas vezes envolve transformá-los em um formato adequado para modelagem. Isso pode incluir a seleção de características relevantes, a normalização ou padronização de dados numéricos e a codificação de variáveis categóricas.\n",
    "\n",
    "5. **Modelagem de dados**: Aqui é onde os cientistas de dados aplicam técnicas estatísticas e algoritmos de aprendizado de máquina para construir modelos preditivos ou descritivos. Isso pode incluir regressão, classificação, agrupamento, árvores de decisão, redes neurais e muito mais, dependendo dos requisitos do projeto.\n",
    "\n",
    "6. **Avaliação de modelos**: Uma vez que os modelos são construídos, é crucial avaliá-los para garantir que estejam produzindo resultados precisos e úteis. \n",
    "\n",
    "7. **Interpretação e comunicação de resultados**: Além de construir modelos, os cientistas de dados também precisam interpretar os resultados e comunicá-los de forma clara e eficaz para as partes interessadas. Isso pode envolver a criação de visualizações, relatórios ou apresentações que destaquem os insights obtidos a partir dos dados.\n",
    "\n",
    "8. **Iteração e refinamento**: A ciência de dados é um processo iterativo, e os modelos geralmente precisam ser refinados com base no feedback e nos novos dados disponíveis. Isso pode envolver ajustes nos modelos existentes, a incorporação de novos dados ou a experimentação com diferentes técnicas de modelagem."
   ]
  },
  {
   "attachments": {},
   "cell_type": "markdown",
   "metadata": {},
   "source": [
    "---\n",
    "# <a id = \"np\"><font color='#005b96'>**Numpy**</font></a>"
   ]
  },
  {
   "attachments": {},
   "cell_type": "markdown",
   "metadata": {},
   "source": [
    "O NumPy é uma biblioteca em Python usada principalmente para realizar operações numéricas em arrays multidimensionais ou matrizes. Ele fornece uma série de funções e métodos poderosos para trabalhar com esses arrays, tornando-o uma ferramenta fundamental para computação científica e análise de dados em Python. Abaixo estão algumas das principais características, funções e aplicações do NumPy:\n",
    "\n",
    "### Principais Características:\n",
    "\n",
    "1. **Arrays Multidimensionais Eficientes**: O NumPy oferece uma estrutura de dados eficiente e otimizada chamada `ndarray`, que pode representar arrays multidimensionais de elementos do mesmo tipo.\n",
    "\n",
    "2. **Operações Matemáticas Avançadas**: Ele fornece uma ampla gama de funções matemáticas e operações vetorizadas para manipulação de arrays, incluindo soma, média, desvio padrão, multiplicação de matrizes, operações trigonométricas, entre outras.\n",
    "\n",
    "3. **Indexação e Fatiamento Avançados**: O NumPy oferece poderosas técnicas de indexação e fatiamento para acessar e manipular elementos em arrays multidimensionais de forma eficiente.\n",
    "\n",
    "4. **Broadcasting**: O broadcasting é uma técnica do NumPy que permite realizar operações entre arrays de diferentes formas e tamanhos de forma eficiente, sem a necessidade de criar cópias dos dados.\n",
    "\n",
    "5. **Integração com C/C++ e Fortran**: O NumPy é construído sobre bibliotecas escritas em linguagens de baixo nível como C/C++ e Fortran, o que o torna altamente otimizado e eficiente para computação numérica.\n",
    "\n",
    "### Funções e Aplicações:\n",
    "\n",
    "1. **Computação Científica**: O NumPy é amplamente utilizado em áreas como física, matemática, engenharia, bioinformática e muitas outras disciplinas científicas para realizar cálculos numéricos, simulações, modelagem de dados, entre outros.\n",
    "\n",
    "2. **Análise de Dados**: Ele é frequentemente usado em conjunto com outras bibliotecas em Python, como Pandas e Matplotlib, para análise de dados, visualização e manipulação de conjuntos de dados complexos.\n",
    "\n",
    "3. **Processamento de Imagens e Sinais**: O NumPy oferece uma variedade de funções para processamento de imagens e sinais, como filtragem, transformações de Fourier, processamento de áudio, entre outros.\n",
    "\n",
    "4. **Aprendizado de Máquina e Inteligência Artificial**: O NumPy é uma parte essencial do ecossistema de aprendizado de máquina em Python, sendo usado para manipulação e processamento de dados em algoritmos de aprendizado de máquina e inteligência artificial.\n"
   ]
  },
  {
   "cell_type": "code",
   "execution_count": null,
   "metadata": {},
   "outputs": [],
   "source": [
    "import numpy as np\n",
    "\n",
    "# Criar um array de uma dimensão\n",
    "arr1d = np.array([1, 2, 3, 4, 5])\n",
    "\n",
    "# Criar um array de duas dimensões\n",
    "arr2d = np.array([[1, 2, 3], [4, 5, 6]])\n"
   ]
  },
  {
   "cell_type": "code",
   "execution_count": null,
   "metadata": {},
   "outputs": [],
   "source": [
    "import numpy as np\n",
    "\n",
    "arr = np.array([1, 2, 3, 4, 5])\n",
    "\n",
    "# Calcular a média dos elementos\n",
    "media = np.mean(arr)\n",
    "\n",
    "# Multiplicar todos os elementos por 2\n",
    "dobro = arr * 2\n",
    "\n",
    "# Calcular a raiz quadrada de todos os elementos\n",
    "raiz_quadrada = np.sqrt(arr)\n",
    "\n",
    "# Calcular o logaritmo natural de todos os elementos\n",
    "logaritmo = np.log(arr)\n",
    "\n",
    "# Calcular o desvio padrão dos elementos\n",
    "desvio_padrao = np.std(arr)\n"
   ]
  },
  {
   "cell_type": "code",
   "execution_count": null,
   "metadata": {},
   "outputs": [],
   "source": [
    "# Acessar o elemento na segunda linha e terceira coluna\n",
    "elemento = arr[:2]\n",
    "print(elemento)"
   ]
  },
  {
   "cell_type": "code",
   "execution_count": null,
   "metadata": {},
   "outputs": [],
   "source": [
    "# Fatiar o array para obter a primeira linha\n",
    "primeira_linha = arr2d[0,:]\n",
    "primeira_linha "
   ]
  },
  {
   "attachments": {},
   "cell_type": "markdown",
   "metadata": {},
   "source": [
    "# <a id = \"e1\"><font color='#005b96'>**Exercício 1**</font></a>"
   ]
  },
  {
   "attachments": {},
   "cell_type": "markdown",
   "metadata": {},
   "source": [
    "Faça uma função que recebe um numpy array, recorta os dois primeiros valores e retorna uma lista com a soma e a média em uma lista"
   ]
  },
  {
   "cell_type": "code",
   "execution_count": null,
   "metadata": {},
   "outputs": [],
   "source": [
    "meu_arr = [1,2,3,4,5,6]\n",
    "\n",
    "# escreva seu código aqui"
   ]
  },
  {
   "attachments": {},
   "cell_type": "markdown",
   "metadata": {},
   "source": [
    "# <a id = \"pd\"><font color='#005b96'>**Pandas**</font></a>"
   ]
  },
  {
   "attachments": {},
   "cell_type": "markdown",
   "metadata": {},
   "source": [
    "O Pandas é uma biblioteca em Python amplamente utilizada para manipulação e análise de dados. Ele oferece estruturas de dados poderosas e flexíveis, especialmente as séries (`Series`) e os dataframes (`DataFrame`), que permitem realizar uma variedade de operações complexas de maneira eficiente. Abaixo estão algumas das principais características, funções e aplicações do Pandas:\n",
    "\n",
    "### Principais Características:\n",
    "\n",
    "1. **Dataframes e Séries**: O Pandas oferece duas estruturas de dados principais: as séries (`Series`) e os dataframes (`DataFrame`). As séries são estruturas unidimensionais que representam uma sequência de dados, enquanto os dataframes são estruturas bidimensionais semelhantes a uma tabela, que consistem em linhas e colunas.\n",
    "\n",
    "2. **Manipulação de Dados Tabulares**: O Pandas oferece uma ampla gama de funções e métodos para carregar, limpar, transformar, analisar e visualizar dados tabulares de diferentes formatos, incluindo CSV, Excel, SQL, JSON e HTML.\n",
    "\n",
    "3. **Indexação e Seleção de Dados**: O Pandas oferece poderosas técnicas de indexação e seleção de dados, permitindo acessar, filtrar, fatiar e manipular dados de forma flexível e eficiente.\n",
    "\n",
    "4. **Agrupamento e Agregação**: O Pandas facilita a realização de operações de agrupamento e agregação de dados, permitindo calcular estatísticas resumidas, como médias, somas, contagens, entre outras, para grupos específicos de dados.\n",
    "\n",
    "5. **Manipulação de Datas e Séries Temporais**: O Pandas oferece suporte robusto para manipulação de datas e séries temporais, permitindo analisar e visualizar dados que variam ao longo do tempo.\n",
    "\n",
    "6. **Integração com outras bibliotecas**: O Pandas é frequentemente usado em conjunto com outras bibliotecas em Python, como NumPy, Matplotlib, Seaborn e scikit-learn, para análise de dados, visualização e modelagem estatística.\n",
    "\n",
    "### Funções e Aplicações:\n",
    "\n",
    "1. **Análise Exploratória de Dados (EDA)**: O Pandas é amplamente utilizado para análise exploratória de dados, ajudando os cientistas de dados a entender a estrutura, distribuição e relações nos dados, identificar padrões e tendências, e detectar valores ausentes ou outliers.\n",
    "\n",
    "2. **Pré-processamento de Dados**: O Pandas é usado para limpar e pré-processar dados antes de realizar análises mais avançadas. Isso inclui remover valores ausentes, lidar com dados duplicados, normalizar dados, entre outras tarefas de limpeza e transformação.\n",
    "\n",
    "3. **Visualização de Dados**: Embora o Pandas não seja uma biblioteca de visualização, ele é frequentemente usado em conjunto com bibliotecas de visualização, como Matplotlib e Seaborn, para criar gráficos e visualizações informativas a partir de dados tabulares.\n",
    "\n",
    "4. **Análise de Séries Temporais**: O Pandas oferece funcionalidades poderosas para trabalhar com dados de séries temporais, permitindo realizar análises estatísticas, modelagem e previsão de séries temporais"
   ]
  },
  {
   "cell_type": "code",
   "execution_count": null,
   "metadata": {},
   "outputs": [],
   "source": [
    "import pandas as pd\n",
    "\n",
    "# Criar um DataFrame a partir de um dicionário\n",
    "dados = {'Nome': ['Alice', 'Bob', 'Charlie', 'David','Jon'],\n",
    "         'Idade': [25, 30, 35, 40,42],\n",
    "         'teste': [5000,6000,7000,8000,7000],\n",
    "         'Cidade': ['São Paulo', None, 'Brasília', 'Brasília','Rio de Janeiro']}\n",
    "\n",
    "df = pd.DataFrame(dados)\n",
    "print(df)\n"
   ]
  },
  {
   "cell_type": "code",
   "execution_count": null,
   "metadata": {},
   "outputs": [],
   "source": [
    "df.shape"
   ]
  },
  {
   "cell_type": "code",
   "execution_count": null,
   "metadata": {},
   "outputs": [],
   "source": [
    "df.columns"
   ]
  },
  {
   "cell_type": "code",
   "execution_count": null,
   "metadata": {},
   "outputs": [],
   "source": [
    "df.dtypes"
   ]
  },
  {
   "cell_type": "code",
   "execution_count": null,
   "metadata": {},
   "outputs": [],
   "source": [
    "# 1. Descrever a tabela\n",
    "df.describe(include='all')"
   ]
  },
  {
   "cell_type": "code",
   "execution_count": null,
   "metadata": {},
   "outputs": [],
   "source": [
    "# Selecionar uma coluna específica\n",
    "coluna = dados['Nome']\n",
    "coluna"
   ]
  },
  {
   "cell_type": "code",
   "execution_count": null,
   "metadata": {},
   "outputs": [],
   "source": [
    "# Filtrar linhas com base em uma condição\n",
    "filtrado = df[df['Idade'] > 30]\n",
    "filtrado"
   ]
  },
  {
   "attachments": {},
   "cell_type": "markdown",
   "metadata": {},
   "source": [
    "### iloc e loc"
   ]
  },
  {
   "attachments": {},
   "cell_type": "markdown",
   "metadata": {},
   "source": [
    "No Pandas, `iloc` e `loc` são atributos que permitem acessar e selecionar dados em um DataFrame de maneiras diferentes. Em resumo, `iloc` é usado para acessar dados por posição numérica, enquanto `loc` é usado para acessar dados por rótulos de índice e de coluna. A escolha entre `iloc` e `loc` depende do contexto e dos requisitos específicos de indexação e seleção de dados em um DataFrame do Pandas. Aqui está uma explicação sobre cada um deles:\n",
    "\n",
    "\n",
    "### `loc`:\n",
    "\n",
    "- **Índice Baseado em Rótulos**: O atributo `loc` é usado para acessar dados com base nos rótulos de índice e de coluna.\n",
    "- **Sintaxe**: `loc[linhas, colunas]`, onde `linhas` e `colunas` são rótulos de índice ou fatias que representam os rótulos das linhas e colunas que você deseja selecionar.\n"
   ]
  },
  {
   "cell_type": "code",
   "execution_count": null,
   "metadata": {},
   "outputs": [],
   "source": [
    "# Selecionar uma linha específica\n",
    "linha = df.loc[0]\n",
    "linha"
   ]
  },
  {
   "attachments": {},
   "cell_type": "markdown",
   "metadata": {},
   "source": [
    "### `iloc`:\n",
    "\n",
    "- **Índice Baseado na Posição**: O atributo `iloc` é usado para acessar dados com base em sua posição numérica no DataFrame.\n",
    "- **Sintaxe**: `iloc[linhas, colunas]`, onde `linhas` e `colunas` são índices inteiros ou fatias que representam as posições das linhas e colunas que você deseja selecionar.\n"
   ]
  },
  {
   "cell_type": "code",
   "execution_count": null,
   "metadata": {},
   "outputs": [],
   "source": [
    "# Selecionar o valor na primeira linha e segunda coluna\n",
    "valor = df.iloc[0, 1]\n",
    "valor\n"
   ]
  },
  {
   "cell_type": "code",
   "execution_count": null,
   "metadata": {},
   "outputs": [],
   "source": [
    "# Selecionar as duas primeiras linhas e a primeira e segunda coluna\n",
    "subset = df.iloc[:2, :2]\n",
    "subset"
   ]
  },
  {
   "cell_type": "code",
   "execution_count": null,
   "metadata": {},
   "outputs": [],
   "source": [
    "# 4. Renomear uma coluna\n",
    "df = df.rename(columns={'teste': 'Renda'})\n",
    "df"
   ]
  },
  {
   "cell_type": "code",
   "execution_count": null,
   "metadata": {},
   "outputs": [],
   "source": [
    "cep_pessoa = {'Nome': ['Alice', 'Bob', 'Charlie', 'David','Jon'],\n",
    "         'Cep': ['0000001', '0000002', '0000003', '0000004','0000005']}\n",
    "\n",
    "cep_pessoa = pd.DataFrame(cep_pessoa)"
   ]
  },
  {
   "cell_type": "code",
   "execution_count": null,
   "metadata": {},
   "outputs": [],
   "source": [
    "# 2. Merge entre os DataFrames de vendas e clientes\n",
    "df = pd.merge(df, cep_pessoa, on='Nome')\n",
    "df"
   ]
  },
  {
   "cell_type": "code",
   "execution_count": null,
   "metadata": {},
   "outputs": [],
   "source": [
    "# Agrupar dados por uma coluna e calcular a média de outra coluna\n",
    "agrupado = df.groupby('Cidade')['Renda'].mean()\n",
    "agrupado"
   ]
  },
  {
   "cell_type": "code",
   "execution_count": null,
   "metadata": {},
   "outputs": [],
   "source": [
    "df.isnull().sum()"
   ]
  },
  {
   "cell_type": "code",
   "execution_count": null,
   "metadata": {},
   "outputs": [],
   "source": [
    "# Remover linhas com valores ausentes\n",
    "df_sem_ausentes = df.dropna()\n",
    "df_sem_ausentes"
   ]
  },
  {
   "cell_type": "code",
   "execution_count": null,
   "metadata": {},
   "outputs": [],
   "source": [
    "# 3. Resetar o índice\n",
    "df = df.reset_index(drop=True)\n"
   ]
  },
  {
   "attachments": {},
   "cell_type": "markdown",
   "metadata": {},
   "source": [
    "A função `copy()` no Pandas é utilizada para criar uma cópia profunda de um objeto DataFrame ou Series. Aqui estão alguns cenários em que você pode querer utilizar `copy()`:\n",
    "\n",
    "1. **Evitar Alterações Indesejadas no DataFrame Original**: Quando você precisa realizar operações em um DataFrame sem alterar o DataFrame original, é recomendado fazer uma cópia usando `copy()`. Isso evita que as alterações feitas no novo DataFrame afetem o DataFrame original.\n"
   ]
  },
  {
   "cell_type": "code",
   "execution_count": null,
   "metadata": {},
   "outputs": [],
   "source": [
    "# Fazer uma cópia do DataFrame original\n",
    "df_copia = df.copy()\n",
    "df_copia\n",
    "\n"
   ]
  },
  {
   "cell_type": "code",
   "execution_count": null,
   "metadata": {},
   "outputs": [],
   "source": [
    "# grava uma tabela em csv\n",
    "df.to_csv(\"tabela_1.csv\")\n"
   ]
  },
  {
   "cell_type": "code",
   "execution_count": null,
   "metadata": {},
   "outputs": [],
   "source": [
    "# lê uma tabela em csv\n",
    "df2 = pd.read_csv('tabela_1.csv')\n",
    "df2"
   ]
  },
  {
   "cell_type": "code",
   "execution_count": null,
   "metadata": {},
   "outputs": [],
   "source": [
    "# grava uma tabela em xlsx\n",
    "df.to_excel(\"tabela_1.xlsx\")"
   ]
  },
  {
   "attachments": {},
   "cell_type": "markdown",
   "metadata": {},
   "source": [
    "# <a id = \"plt\"><font color='#005b96'>**Matplotlib**</font></a>"
   ]
  },
  {
   "attachments": {},
   "cell_type": "markdown",
   "metadata": {},
   "source": [
    "A biblioteca Matplotlib é uma das mais populares e poderosas bibliotecas de visualização de dados em Python. Ela oferece uma variedade de funções e classes para criar uma ampla gama de gráficos e visualizações de alta qualidade. Aqui está uma explicação detalhada sobre a biblioteca Matplotlib, juntamente com exemplos de diferentes tipos de gráficos"
   ]
  },
  {
   "cell_type": "code",
   "execution_count": null,
   "metadata": {},
   "outputs": [],
   "source": [
    "import matplotlib.pyplot as plt\n",
    "\n",
    "# Dados\n",
    "x = [1, 2, 3, 4, 5]\n",
    "y = [2, 3, 5, 7, 11]\n",
    "\n",
    "# Criar gráfico de linhas\n",
    "plt.plot(x, y)\n",
    "\n",
    "# Adicionar rótulos e título\n",
    "plt.xlabel('Eixo X')\n",
    "plt.ylabel('Eixo Y')\n",
    "plt.title('Gráfico de Linhas')\n",
    "\n",
    "# Exibir gráfico\n",
    "plt.show()"
   ]
  },
  {
   "cell_type": "code",
   "execution_count": null,
   "metadata": {},
   "outputs": [],
   "source": [
    "import matplotlib.pyplot as plt\n",
    "\n",
    "# Dados\n",
    "categorias = ['A', 'B', 'C', 'D']\n",
    "valores = [10, 20, 15, 25]\n",
    "\n",
    "# Criar gráfico de barras\n",
    "plt.bar(categorias, valores)\n",
    "\n",
    "# Adicionar rótulos e título\n",
    "plt.xlabel('Categorias')\n",
    "plt.ylabel('Valores')\n",
    "plt.title('Gráfico de Barras')\n",
    "\n",
    "# Exibir gráfico\n",
    "plt.show()"
   ]
  },
  {
   "cell_type": "code",
   "execution_count": null,
   "metadata": {},
   "outputs": [],
   "source": [
    "import matplotlib.pyplot as plt\n",
    "\n",
    "# Dados\n",
    "categorias = ['A', 'B', 'C', 'D']\n",
    "valores = [10, 20, 15, 25]\n",
    "\n",
    "# Criar gráfico de pizza\n",
    "plt.pie(valores,labels = categorias)\n",
    "\n",
    "# Adicionar rótulos e título\n",
    "plt.xlabel('Categorias')\n",
    "plt.ylabel('Valores')\n",
    "plt.title('Gráfico de Barras')\n",
    "\n",
    "# Exibir gráfico\n",
    "plt.show()"
   ]
  },
  {
   "cell_type": "code",
   "execution_count": null,
   "metadata": {},
   "outputs": [],
   "source": [
    "import matplotlib.pyplot as plt\n",
    "\n",
    "# Dados\n",
    "x = [1, 2, 3, 4, 5]\n",
    "y = [2, 3, 5, 7, 11]\n",
    "\n",
    "# Criar gráfico de dispersão\n",
    "plt.scatter(x, y)\n",
    "\n",
    "# Adicionar rótulos e título\n",
    "plt.xlabel('Eixo X')\n",
    "plt.ylabel('Eixo Y')\n",
    "plt.title('Gráfico de Dispersão')\n",
    "\n",
    "# Exibir gráfico\n",
    "plt.show()"
   ]
  },
  {
   "attachments": {},
   "cell_type": "markdown",
   "metadata": {},
   "source": [
    "# <a id = \"sns\"><font color='#005b96'>**Seaborn**</font></a>"
   ]
  },
  {
   "attachments": {},
   "cell_type": "markdown",
   "metadata": {},
   "source": [
    "Seaborn é uma biblioteca Python baseada no Matplotlib que oferece uma interface de alto nível para criação de visualizações estatísticas atraentes e informativas. Ela simplifica a criação de gráficos complexos, fornecendo funções especializadas para visualização de dados estatísticos. Aqui está uma explicação detalhada sobre a biblioteca Seaborn, juntamente com exemplos de diferentes tipos de gráficos"
   ]
  },
  {
   "cell_type": "code",
   "execution_count": null,
   "metadata": {},
   "outputs": [],
   "source": [
    "import seaborn as sns\n",
    "import matplotlib.pyplot as plt\n",
    "\n",
    "# Criar gráfico de boxplot\n",
    "sns.boxplot(data=iris, x='species', y='petal_length')\n",
    "\n",
    "# Adicionar rótulos e título\n",
    "plt.xlabel('Espécies')\n",
    "plt.ylabel('Comprimento da Pétala')\n",
    "plt.title('Boxplot do Comprimento da Pétala por Espécie')\n",
    "\n",
    "# Exibir gráfico\n",
    "plt.show()\n"
   ]
  },
  {
   "cell_type": "code",
   "execution_count": null,
   "metadata": {},
   "outputs": [],
   "source": [
    "import pandas as pd\n",
    "import seaborn as sns\n",
    "import matplotlib.pyplot as plt\n",
    "\n",
    "# Carregar conjunto de dados de exemplo\n",
    "iris = sns.load_dataset('iris')\n",
    "\n",
    "# Criar gráfico de distribuição de pétala\n",
    "sns.histplot(data=iris, x='petal_length')\n",
    "\n",
    "# Adicionar rótulos e título\n",
    "plt.xlabel('Comprimento da Pétala')\n",
    "plt.ylabel('Contagem')\n",
    "plt.title('Distribuição do Comprimento da Pétala')\n",
    "\n",
    "# Exibir gráfico\n",
    "plt.show()\n"
   ]
  },
  {
   "attachments": {},
   "cell_type": "markdown",
   "metadata": {},
   "source": [
    "# <a id = \"e2\"><font color='#005b96'>**Exercício 2**</font></a>"
   ]
  },
  {
   "attachments": {},
   "cell_type": "markdown",
   "metadata": {},
   "source": [
    "1. faça um describe dos dados case_gastos.csv (\"tabela contida na raiz da pasta\")\n",
    "2. identifique a quantidade linhas e colunas da tabela\n",
    "3. printe as 5 primeiras linha da tabela\n",
    "4. verifique se existem valores nulos nas colunas\n",
    "5. renomeie a coluna VALOR_PAGO por VALOR\n",
    "6. identifique se existe valores repetidos na ciluna ID_SEGURADO\n",
    "7. calcule a soma do VALOR agrupado por ID_SEGURADO, SEXO, UF_ATENDIMENTO e grave o resultado em uma nova tabela\n",
    "8. A partir da nova tabela faça um novo describe dos dados\n",
    "9. Faça um histograma do VALOR\n",
    "10. Faça um boxplot do VALOR separado por SEXO\n",
    "11. faça um grafico de pizza pela contagem por SEXO"
   ]
  },
  {
   "cell_type": "code",
   "execution_count": null,
   "metadata": {},
   "outputs": [],
   "source": [
    "#escreva seu código aqui"
   ]
  }
 ],
 "metadata": {
  "kernelspec": {
   "display_name": "Python 3",
   "language": "python",
   "name": "python3"
  },
  "language_info": {
   "codemirror_mode": {
    "name": "ipython",
    "version": 3
   },
   "file_extension": ".py",
   "mimetype": "text/x-python",
   "name": "python",
   "nbconvert_exporter": "python",
   "pygments_lexer": "ipython3",
   "version": "3.9.16"
  },
  "orig_nbformat": 4
 },
 "nbformat": 4,
 "nbformat_minor": 2
}
