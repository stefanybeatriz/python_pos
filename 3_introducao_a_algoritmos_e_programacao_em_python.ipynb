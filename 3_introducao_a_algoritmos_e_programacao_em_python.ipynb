{
 "cells": [
  {
   "cell_type": "markdown",
   "metadata": {
    "colab_type": "text",
    "id": "UGLWAxnNjgyp"
   },
   "source": [
    "# Introdução a Algoritmos e Programação em Python\n",
    "\n",
    "## Informações sobre o curso\n",
    "\n",
    "### Objetivo\n",
    "\n",
    "O objetivo desta aula é guiar o aluno pelas estruturas e rotinas básicas de uma linguagem de programação.\n",
    "\n",
    "O conteúdo aqui apresentado é necessário para entendimento das técnicas aplicadas nas disciplinas e laboratórios futuros.\n",
    "\n",
    "### Instalação\n",
    "\n",
    "Este documento foi construído através da ferramenta [Jupyter Notebook](http://jupyter.org/) e recomenda-se que as atividades aqui propostas sejam realizadas por meio da mesma ferramenta.\n",
    "\n",
    "Para suporte completo das demais disciplinas do curso, algumas bibliotecas - além da própria linguagem Python - deverão ser instaladas na máquina do aluno. O projeto [Anaconda](https://www.anaconda.com/download/)  oferece um pacote das principais ferramentas necessárias e sua instalação é recomendada.\n",
    "\n",
    "Para baixar o instalador disponível para os sistemas `Windows`, `MacOs` e `Linux` visite o [link para download do projeto Anaconda](https://www.anaconda.com/download/) e escolha a opção mais recente do **Python**.\n",
    "\n",
    "> **Nota:** A instalação deve ocorrer de forma simples, basta escolher as opções recomendadas e certificar-se de que a opção **\"adicionar Python ao Path do sistema\"** foi selecionada no decorrer da instalação.\n",
    "\n",
    "Caso o aluno queira instalar as bibliotecas de forma manual, pode optar por apenas realizar o download da linguagem Python. O instalador e outras informações como suporte aos sistemas e o processo de instalação podem ser consultados no [link oficial para download da linguagem](https://www.python.org/downloads/).\n",
    "\n",
    "> **Nota:** Também verificar se a opção **\"adicionar Python ao Path do sistema\"** foi selecionada no decorrer da instalação.\n",
    "\n",
    "Como editor de texto, recomenda-se a instalação do [Visual Studio Code](https://code.visualstudio.com/) da Microsoft, o [download pode ser feito através deste link](https://code.visualstudio.com/Download).\n",
    "\n",
    "### Material complementar\n",
    "\n",
    " - [Documentação da linguagem Python](https://docs.python.org/3/index.html).\n",
    " - [Comunidade brasileira de Python](https://python.org.br/).\n",
    "\n",
    "## Python\n",
    "\n",
    "Python é uma linguagem de programação de [alto nível](https://pt.wikipedia.org/wiki/Linguagem_de_programa%C3%A7%C3%A3o_de_alto_n%C3%ADvel) e [interpretada](https://pt.wikipedia.org/wiki/Linguagem_interpretada). Lançada oficialmente em 1991 e preferida pelos pesquisadores e cientistas. A comunidade Python, ultimamente, ainda vê um grande crescimento em sua utilização.\n",
    "\n",
    "Nesta aula, além das estruturas básicas de dados suportados pela linguagem, também veremos as [estruturas de seleção (ou condição)](https://pt.wikipedia.org/wiki/Estrutura_de_sele%C3%A7%C3%A3o) como `if`, `elif` e `else`; as [estruturas de repetição (_loops_](https://pt.wikipedia.org/wiki/Estrutura_de_repeti%C3%A7%C3%A3o))  `for` e `while`; e finalmente as sub-rotinas ([funções](https://pt.wikipedia.org/wiki/Sub-rotina))."
   ]
  },
  {
   "cell_type": "markdown",
   "metadata": {
    "colab_type": "text",
    "id": "UGLWAxnNjgyp"
   },
   "source": [
    "## Imprimindo texto no terminal\n",
    "\n",
    "Em python utilizamos a função `print()` para imprimir uma mensagem no terminal. A função `print()` é muito útil para \"[*debugar*](https://pt.wikipedia.org/wiki/Debug_(comando))\" um [*script*](https://pt.wikipedia.org/wiki/Linguagem_de_script), facilitando ao programador encontrar erros ou comportamentos inadequados no código.\n",
    "\n",
    "```python\n",
    "print(\"Texto que quero imprimir no terminal\")\n",
    "```"
   ]
  },
  {
   "cell_type": "code",
   "execution_count": null,
   "metadata": {
    "colab": {},
    "colab_type": "code",
    "id": "nqp8erw6jgyu",
    "scrolled": false
   },
   "outputs": [],
   "source": [
    "print('Olá Mundo!')"
   ]
  },
  {
   "cell_type": "code",
   "execution_count": null,
   "metadata": {
    "colab": {},
    "colab_type": "code",
    "id": "nqp8erw6jgyu",
    "scrolled": true
   },
   "outputs": [],
   "source": [
    "aula = 'Texto...' # atribuição de string à varialvel\n",
    "\n",
    "print(aula)"
   ]
  },
  {
   "cell_type": "code",
   "execution_count": null,
   "metadata": {},
   "outputs": [],
   "source": [
    "3+3"
   ]
  },
  {
   "cell_type": "code",
   "execution_count": null,
   "metadata": {
    "colab": {},
    "colab_type": "code",
    "id": "nqp8erw6jgyu",
    "scrolled": true
   },
   "outputs": [],
   "source": [
    "print('O Resultado de 3 + 3 é', 3 + 3)"
   ]
  },
  {
   "cell_type": "code",
   "execution_count": null,
   "metadata": {
    "colab": {},
    "colab_type": "code",
    "id": "nqp8erw6jgyu",
    "scrolled": true
   },
   "outputs": [],
   "source": [
    "print('O Resultado de 3 + 3 é {0}'.format(3 + 3))"
   ]
  },
  {
   "cell_type": "code",
   "execution_count": null,
   "metadata": {
    "colab": {},
    "colab_type": "code",
    "id": "nqp8erw6jgyu"
   },
   "outputs": [],
   "source": [
    "print('O Resultado de 3 + 3 é {0} e de 4 + 2 também é {1}'.format(3 + 3, 4 + 2))"
   ]
  },
  {
   "cell_type": "markdown",
   "metadata": {
    "colab_type": "text",
    "id": "i7gd-Xk0jgyz"
   },
   "source": [
    "## Comentários\n",
    "\n",
    "Comentários são a [chave do sucesso em qualquer código de computador](http://www.linhadecodigo.com.br/artigo/2918/a-importancia-de-uma-boa-documentacao.aspx). Além de ajudar outras pessoas a entender o raciocínio aplicado, também facilitam o programador nos suportes futuros ao código.\n",
    "\n",
    "Em Python, podemos utilizar comentários de duas formas:\n",
    "\n",
    "1. Comentários de uma linha\n",
    "```python\n",
    "# Comentário de uma linha...\n",
    "```\n",
    "2. Comentários de várias linhas\n",
    "```python\n",
    "'''\n",
    "Comentário\n",
    "            de\n",
    "                várias\n",
    "                        linhas...\n",
    "'''\n",
    "```\n",
    "\n",
    "Os comentários não são interpretados pelo [interpretador da linguagem](https://pt.wikipedia.org/wiki/Interpretador), isso é, seu conteúdo é ignorado."
   ]
  },
  {
   "cell_type": "markdown",
   "metadata": {
    "colab_type": "text",
    "id": "8i0aQUyrjgy1"
   },
   "source": [
    "## Tipos de dados em Python\n",
    "\n",
    "Assim como em outras linguagens, Python possui [vários tipos de dados nativos](https://docs.python.org/3/library/datatypes.html), ou seja, é possível dizer que uma variável é do tipo inteiro (1, 4, 7, 9, 15000, ...), um ponto flutuante (2.5, 77.4, 13.1416, …), uma lista, um conjunto ou mesmo um texto.\n",
    "\n",
    "Abaixo uma tabela resumindo os tipos nativos encontrados na linguagem Python:\n",
    "\n",
    "| Tipo | Descrição | Sintaxe |\n",
    "|:---:|:---:|:---:|\n",
    "| ```str``` | Uma [sequência de caracteres](https://pt.wikipedia.org/wiki/Cadeia_de_caracteres) | ```'Um texto Qualquer'``` |\n",
    "| ```list``` | Uma [lista](https://pt.wikipedia.org/wiki/Lista) mutável | ```['Texto', True, 44.8]``` |\n",
    "| ```tuple``` | [Tupla](https://pt.wikipedia.org/wiki/Enupla) imutável | ```('Texto', True, 44.8)``` |\n",
    "| ```set``` | [Conjunto](https://pt.wikipedia.org/wiki/Conjunto) não ordenado, não contendo elementos duplicados | ```set(['Texto', True, 44.8])``` |\n",
    "| ```dict``` | [Conjunto](https://pt.wikipedia.org/wiki/Conjunto) associativo, na estrutura de chave: valor | ```{'chave_1' : valor_1, 'chave_2' : valor_2}``` |\n",
    "| ```int``` | Números inteiros | ```36900``` |\n",
    "| ```float``` | [Ponto flutuante](https://pt.wikipedia.org/wiki/V%C3%ADrgula_flutuante) | ```13.1416``` |\n",
    "| ```complex``` | [Números complexos](https://pt.wikipedia.org/wiki/N%C3%BAmero_complexo) | ```4+5i``` |\n",
    "| ```bool``` | [Booleanos](https://pt.wikipedia.org/wiki/Booleano) | ```True ou False``` |"
   ]
  },
  {
   "cell_type": "markdown",
   "metadata": {
    "colab_type": "text",
    "id": "-9FYgybAjgy2"
   },
   "source": [
    "## Operadores aritméticos, lógicos e básicos de comparação\n",
    "\n",
    "Os operadores matemáticos nos possibilitam executar cálculos matemáticos sejam eles simples ou complexos.\n",
    "\n",
    "Já os [operadores lógicos](https://pt.wikipedia.org/wiki/Operador_l%C3%B3gico) nos permitem realizar comparações entre variáveis binárias definidas, ou seja, retorna positivo ou negativo dada uma determinada expressão.\n",
    "\n",
    "### Operadores aritméticos\n",
    "\n",
    "Operador | Descrição\n",
    ":---:|:---:\n",
    "+|Adição\n",
    "-|Subtração\n",
    "*|Multiplicação\n",
    "/|Divisão \n",
    "%|Módulo (resto)\n",
    "//|Divisão (parte inteira)\n",
    "**|Exponenciação "
   ]
  },
  {
   "cell_type": "code",
   "execution_count": null,
   "metadata": {
    "colab": {},
    "colab_type": "code",
    "id": "rayET9Iijgy3"
   },
   "outputs": [],
   "source": [
    "print('7 + 2 =', 7 + 2) # operação de adição"
   ]
  },
  {
   "cell_type": "code",
   "execution_count": null,
   "metadata": {
    "colab": {},
    "colab_type": "code",
    "id": "rayET9Iijgy3"
   },
   "outputs": [],
   "source": [
    "print('7 - 2 =', 7 - 2) # operação de subtração"
   ]
  },
  {
   "cell_type": "code",
   "execution_count": null,
   "metadata": {
    "colab": {},
    "colab_type": "code",
    "id": "rayET9Iijgy3"
   },
   "outputs": [],
   "source": [
    "print('7 * 2 =', 7 * 2) # operação de multiplicação"
   ]
  },
  {
   "cell_type": "code",
   "execution_count": null,
   "metadata": {
    "colab": {},
    "colab_type": "code",
    "id": "rayET9Iijgy3"
   },
   "outputs": [],
   "source": [
    "print('7 / 2 =', 7 / 2) # operação de divisão"
   ]
  },
  {
   "cell_type": "code",
   "execution_count": null,
   "metadata": {
    "colab": {},
    "colab_type": "code",
    "id": "rayET9Iijgy3"
   },
   "outputs": [],
   "source": [
    "print('7 % 2 =', 7 % 2) # resto da divisão (módulo)"
   ]
  },
  {
   "cell_type": "code",
   "execution_count": null,
   "metadata": {
    "colab": {},
    "colab_type": "code",
    "id": "rayET9Iijgy3"
   },
   "outputs": [],
   "source": [
    "print('7 // 2 =', 7 // 2) # divisão absoluta"
   ]
  },
  {
   "cell_type": "code",
   "execution_count": null,
   "metadata": {
    "colab": {},
    "colab_type": "code",
    "id": "rayET9Iijgy3"
   },
   "outputs": [],
   "source": [
    "print('7 ** 2 =', 7 ** 2) # potência (exponenciação)"
   ]
  },
  {
   "cell_type": "markdown",
   "metadata": {
    "colab_type": "text",
    "id": "gO5dKAwOjgy9"
   },
   "source": [
    "### Operadores lógicos\n",
    "\n",
    "É através da utilização dos operadores `and`, `or` e `not` que vamos conseguir extrair as características mostradas abaixo:\n",
    "\n",
    "#### Operador `and`\n",
    "\n",
    "| A | B | Saída |\n",
    "|---|---|-------|\n",
    "| 0 | 0 |   0   |\n",
    "| 0 | 1 |   0   |\n",
    "| 1 | 0 |   0   |\n",
    "| 1 | 1 |   1   |\n",
    "\n",
    "\n",
    "> É verdade se as duas variáveis de entrada forem verdade.\n",
    "\n",
    "\n",
    "#### Operador `or`\n",
    "\n",
    "| A | B | Saída |\n",
    "|---|---|-------|\n",
    "| 0 | 0 |   0   |\n",
    "| 0 | 1 |   1   |\n",
    "| 1 | 0 |   1   |\n",
    "| 1 | 1 |   1   |\n",
    "\n",
    "> É verdade se ao menos uma das variáveis de entrada for verdadeira.\n",
    "\n",
    "#### Operador `not`\n",
    "\n",
    "| A | Saída |\n",
    "|---|-------|\n",
    "| 0 |   1   |\n",
    "| 1 |   0   |\n",
    "\n",
    "> É verdade quando a variável de entrada é falsa e falsa quando a variável é verdadeira."
   ]
  },
  {
   "cell_type": "markdown",
   "metadata": {
    "colab_type": "text",
    "id": "gO5dKAwOjgy9"
   },
   "source": [
    "Vamos verificar o resultado das saídas realizando algumas operações lógicas:"
   ]
  },
  {
   "cell_type": "code",
   "execution_count": null,
   "metadata": {
    "colab": {},
    "colab_type": "code",
    "id": "tRIQtn7Qjgy9"
   },
   "outputs": [],
   "source": [
    "# Criando 3 variáveis do tipo Boolean:\n",
    "# var_1 e var_3 recebendo valor True (1 ou verdadeiro) e var_2 recebendo valor False (0 ou falso)\n",
    "\n",
    "var_1 = True\n",
    "var_2 = False\n",
    "var_3 = True"
   ]
  },
  {
   "cell_type": "markdown",
   "metadata": {
    "colab_type": "text",
    "id": "gO5dKAwOjgy9"
   },
   "source": [
    "_**!!!** Antes de executar cada uma das 3 células seguintes, substitua nos comentários o caracter **'?'** pela reposta esperada **!!!**_"
   ]
  },
  {
   "cell_type": "code",
   "execution_count": null,
   "metadata": {
    "colab": {},
    "colab_type": "code",
    "id": "tRIQtn7Qjgy9"
   },
   "outputs": [],
   "source": [
    "print(var_1 and var_2) # Retorna ?\n",
    "print(var_1 and var_3) # Retorna ?"
   ]
  },
  {
   "cell_type": "code",
   "execution_count": null,
   "metadata": {
    "colab": {},
    "colab_type": "code",
    "id": "tRIQtn7Qjgy9"
   },
   "outputs": [],
   "source": [
    "print(var_1 or var_2) # Retorna ?\n",
    "print(var_1 or var_3) # Retorna ?"
   ]
  },
  {
   "cell_type": "code",
   "execution_count": null,
   "metadata": {
    "colab": {},
    "colab_type": "code",
    "id": "tRIQtn7Qjgy9",
    "scrolled": true
   },
   "outputs": [],
   "source": [
    "print(not var_2) # Retorna ?\n",
    "print(not var_1) # Retorna ?"
   ]
  },
  {
   "cell_type": "markdown",
   "metadata": {
    "colab_type": "text",
    "id": "oJADyxVhjgzA"
   },
   "source": [
    "### Operadores básicos de comparação\n",
    "\n",
    "Comparam dois valores e retornam `True` ou `False` dependendo dos parâmetros de *input*.\n",
    "\n",
    "| Operador | Descrição | Sintaxe |\n",
    "|:-:|:-:|:-:|\n",
    "| Igualdade | Compara a igualdade entre dois valores | `==` |\n",
    "| Maior que | Verifica se o primeiro valor é maior que o segundo valor | `>` |\n",
    "| Menor que | Verifica se o primeiro valor é menor que o segundo valor | `<` |\n",
    "| Maior ou igual | Verifica se o primeiro valor é maior ou igual ao segundo valor | `>=` |\n",
    "| Menor ou igual | Verifica se o primeiro valor é menor ou igual ao segundo valor | `<=` |\n",
    "| Diferente | Verifica se o primeiro valor é diferente do segundo valor | `!=` |"
   ]
  },
  {
   "cell_type": "markdown",
   "metadata": {
    "colab_type": "text",
    "id": "gO5dKAwOjgy9"
   },
   "source": [
    "_**!!!** Antes de executar cada uma das 6 células seguintes, substitua nos comentários o caracter **'?'** pela reposta esperada **!!!**_"
   ]
  },
  {
   "cell_type": "code",
   "execution_count": null,
   "metadata": {
    "colab": {},
    "colab_type": "code",
    "id": "MGXS8to8jgzC"
   },
   "outputs": [],
   "source": [
    "print(2 == 2) # resposta: ?"
   ]
  },
  {
   "cell_type": "code",
   "execution_count": null,
   "metadata": {
    "colab": {},
    "colab_type": "code",
    "id": "MGXS8to8jgzC"
   },
   "outputs": [],
   "source": [
    "print(2 > 3) # resposta: ?"
   ]
  },
  {
   "cell_type": "code",
   "execution_count": null,
   "metadata": {
    "colab": {},
    "colab_type": "code",
    "id": "MGXS8to8jgzC"
   },
   "outputs": [],
   "source": [
    "print(2 < 3) # resposta: ?"
   ]
  },
  {
   "cell_type": "code",
   "execution_count": null,
   "metadata": {
    "colab": {},
    "colab_type": "code",
    "id": "MGXS8to8jgzC"
   },
   "outputs": [],
   "source": [
    "print(3 >= 3) # resposta: ?"
   ]
  },
  {
   "cell_type": "code",
   "execution_count": null,
   "metadata": {
    "colab": {},
    "colab_type": "code",
    "id": "MGXS8to8jgzC"
   },
   "outputs": [],
   "source": [
    "print(3 <= 2) # resposta: ?"
   ]
  },
  {
   "cell_type": "code",
   "execution_count": null,
   "metadata": {
    "colab": {},
    "colab_type": "code",
    "id": "MGXS8to8jgzC"
   },
   "outputs": [],
   "source": [
    "print(3 != 3) # resposta: ?"
   ]
  },
  {
   "cell_type": "markdown",
   "metadata": {
    "colab_type": "text",
    "id": "A2WKEOcejgzH"
   },
   "source": [
    "## Strings\n",
    "\n",
    "Uma [string](https://docs.python.org/3.8/library/string.html) é qualquer cadeia de caracteres. Pode ser formada de uma única palavra como um nome, uma cor ou pode conter *n* palavras como uma mensagem, um texto...\n",
    "\n",
    "```python\n",
    "minha_string = \"Eu sou uma String\"\n",
    "```\n",
    "\n",
    "Python tem uma variedade de funções prontas para operações com os diversos tipos de dados que suporta. \n",
    "\n",
    "Para uma visão completa sobre o que podemos fazer com as variáveis do tipo *string* utilizando estas funções nativas da linguagem, basta consultar a [documentação](https://docs.python.org/3.8/library/string.html)."
   ]
  },
  {
   "cell_type": "markdown",
   "metadata": {
    "colab_type": "text",
    "id": "A2WKEOcejgzH"
   },
   "source": [
    "### Uppercase e Lowercase\n",
    "\n",
    "Deixando toda a *string* em caixa baixa ou alta, por exemplo:"
   ]
  },
  {
   "cell_type": "code",
   "execution_count": null,
   "metadata": {
    "colab": {},
    "colab_type": "code",
    "id": "nm0BjraqjgzI"
   },
   "outputs": [],
   "source": [
    "minha_string = 'Eu sou uma String!'"
   ]
  },
  {
   "cell_type": "code",
   "execution_count": null,
   "metadata": {
    "colab": {},
    "colab_type": "code",
    "id": "nm0BjraqjgzI"
   },
   "outputs": [],
   "source": [
    "# Imprimindo o resultado da função 'upper'\n",
    "print(minha_string.upper())"
   ]
  },
  {
   "cell_type": "code",
   "execution_count": null,
   "metadata": {
    "colab": {},
    "colab_type": "code",
    "id": "nm0BjraqjgzI"
   },
   "outputs": [],
   "source": [
    "# Imprimindo o resultado da função 'lower'\n",
    "print(minha_string.lower())"
   ]
  },
  {
   "cell_type": "code",
   "execution_count": null,
   "metadata": {},
   "outputs": [],
   "source": [
    "# variável continua em seu estado original\n",
    "minha_string"
   ]
  },
  {
   "cell_type": "code",
   "execution_count": null,
   "metadata": {
    "colab": {},
    "colab_type": "code",
    "id": "nm0BjraqjgzI",
    "scrolled": false
   },
   "outputs": [],
   "source": [
    "# alterando o estado original da variável\n",
    "minha_string = minha_string.lower()\n",
    "print(minha_string)"
   ]
  },
  {
   "cell_type": "markdown",
   "metadata": {
    "colab_type": "text",
    "id": "YlP8aUDijgzO"
   },
   "source": [
    "### Replace \n",
    "\n",
    "A função ```replace()``` recebe dois parâmetros dentro de seus parenteses separados por uma vírgula. O primeiro é o caractere que desejamos modificar e o segundo é o caractere por qual desejamos substituir o primeiro.\n",
    "\n",
    "Convertendo todo caractere **'a'** pelo caractere **'o'**:"
   ]
  },
  {
   "cell_type": "code",
   "execution_count": null,
   "metadata": {
    "colab": {},
    "colab_type": "code",
    "id": "ilq6mf_rjgzM"
   },
   "outputs": [],
   "source": [
    "nova_string = 'Abacaxi, banana, abacate, sorvete e batata!'"
   ]
  },
  {
   "cell_type": "code",
   "execution_count": null,
   "metadata": {
    "colab": {},
    "colab_type": "code",
    "id": "ilq6mf_rjgzM"
   },
   "outputs": [],
   "source": [
    "# Imprimindo o resultado da função 'replace'\n",
    "print(nova_string.replace('a', 'o'))"
   ]
  },
  {
   "cell_type": "markdown",
   "metadata": {},
   "source": [
    "Observe que a função não modificou a primeira letra **'A'** da palavra **'Abacaxi'**. Isso ocorre pois a a função `replace()` é [*case sensitive*](https://pt.wikipedia.org/wiki/Case-sensitive), ou seja, há diferença entre letras maiúsculas e minúsculas. Como fornecemos a letra **'a'** minúscula para a função, a mesma não alterou a letra **'A'** maiúscula."
   ]
  },
  {
   "cell_type": "markdown",
   "metadata": {
    "colab_type": "text",
    "id": "YlP8aUDijgzO"
   },
   "source": [
    "### Find\n",
    "\n",
    "Procura uma *string* em outra *string*. Por exemplo, será que encontramos a palavra **'banana'** na variável *nova_string*?"
   ]
  },
  {
   "cell_type": "code",
   "execution_count": null,
   "metadata": {
    "colab": {},
    "colab_type": "code",
    "id": "h0Nxo1HWjgzP",
    "scrolled": true
   },
   "outputs": [],
   "source": [
    "nova_string = 'Abacaxi, banana, abacate, sorvete e batata! Olha a banana de novo'\n",
    "\n",
    "print(nova_string.find('banana'))"
   ]
  },
  {
   "cell_type": "markdown",
   "metadata": {
    "colab_type": "text",
    "id": "goZMg-bRjgzR"
   },
   "source": [
    "Note que ao buscar a ocorrência da palavra **'banana'** na variável *nova_string* o resultado é o número **9**. Contando a posição de cada caractere na variável *nova_string*, repare que o início da palavra **'banana'** é exatamente a **9ª** posição da cadeia.\n",
    "\n",
    "Isso ocorre pois a indexação no Python inicia-se por **0**."
   ]
  },
  {
   "cell_type": "markdown",
   "metadata": {
    "colab_type": "text",
    "id": "5vu-G8lEjgzR"
   },
   "source": [
    "## Listas\n",
    "\n",
    "Listas são [estruturas de dados](https://docs.python.org/3.8/tutorial/datastructures.html#) que agrupam algum tipo de dado e permitem iterações e acesso direto a cada dado.\n",
    "\n",
    "Tanto um *array* como uma *list* são listas. A diferença é que uma lista pode guardar qualquer tipo de dado. Já um *array*, apenas armazena um tipo exclusivo de dado em sua estrutura."
   ]
  },
  {
   "cell_type": "code",
   "execution_count": null,
   "metadata": {
    "colab": {},
    "colab_type": "code",
    "id": "_kEEXXiyjgzS"
   },
   "outputs": [],
   "source": [
    "# declarando uma lista vazia\n",
    "minha_lista = list()\n",
    "\n",
    "print(type(minha_lista))"
   ]
  },
  {
   "cell_type": "code",
   "execution_count": null,
   "metadata": {
    "colab": {},
    "colab_type": "code",
    "id": "_kEEXXiyjgzS"
   },
   "outputs": [],
   "source": [
    "# declarando uma lista vazia\n",
    "minha_outra_lista = []\n",
    "\n",
    "print(type(minha_outra_lista))"
   ]
  },
  {
   "cell_type": "markdown",
   "metadata": {
    "colab_type": "text",
    "id": "VZtoEkzwjgzU"
   },
   "source": [
    "### Operações Básicas com Listas\n",
    "\n",
    "Vamos declarar uma lista de nomes e verificar algumas propriedades e ações que podemos executar em uma lista:"
   ]
  },
  {
   "cell_type": "code",
   "execution_count": null,
   "metadata": {
    "colab": {},
    "colab_type": "code",
    "id": "0jhL8kDNjgzV"
   },
   "outputs": [],
   "source": [
    "# Declarando a lista\n",
    "minha_lista = ['Joaquim', 'Carlos', 'Luciana', 'Marcelo', 'Ellen', 'Márcia']\n",
    "\n",
    "print(minha_lista)"
   ]
  },
  {
   "cell_type": "markdown",
   "metadata": {
    "colab_type": "text",
    "id": "VZtoEkzwjgzU"
   },
   "source": [
    "Para acessar um dado específico desta lista podemos indicar seu índice como demonstrado abaixo:"
   ]
  },
  {
   "cell_type": "code",
   "execution_count": null,
   "metadata": {
    "colab": {},
    "colab_type": "code",
    "id": "0jhL8kDNjgzV"
   },
   "outputs": [],
   "source": [
    "# Acessando o dado guardado no índice 1 da lista\n",
    "minha_lista[1]"
   ]
  },
  {
   "cell_type": "markdown",
   "metadata": {
    "colab_type": "text",
    "id": "cardbhU6jgzd"
   },
   "source": [
    "Observe que o índice **1** da lista retornou **'Carlos'**, porém quando analisamos nossa lista declarada, o nome **'Carlos'** encontra-se na segunda posição da lista.\n",
    "\n",
    "Lembrem-se: Isso ocorre pois a indexação no Python inicia-se por **0**. Desta forma, para acessar o primeiro valor da lista, devemos passar o índice correto. \n",
    "\n",
    "```python\n",
    "minha_lista[0]\n",
    "```"
   ]
  },
  {
   "cell_type": "code",
   "execution_count": null,
   "metadata": {
    "colab": {},
    "colab_type": "code",
    "id": "nr3A1iFHjgze"
   },
   "outputs": [],
   "source": [
    "minha_lista[0]"
   ]
  },
  {
   "cell_type": "markdown",
   "metadata": {
    "colab_type": "text",
    "id": "uhx_mfTFjgzi"
   },
   "source": [
    "Para alterar o valor de qualquer posição da lista, basta atribuir um novo valor ao índice desta forma:"
   ]
  },
  {
   "cell_type": "code",
   "execution_count": null,
   "metadata": {
    "colab": {},
    "colab_type": "code",
    "id": "7vkVxhaQjgzj"
   },
   "outputs": [],
   "source": [
    "minha_lista[0] = 'Amarelo'\n",
    "\n",
    "print(minha_lista)"
   ]
  },
  {
   "cell_type": "code",
   "execution_count": null,
   "metadata": {
    "colab": {},
    "colab_type": "code",
    "id": "7vkVxhaQjgzj"
   },
   "outputs": [],
   "source": [
    "minha_lista[3] = 33\n",
    "\n",
    "print(minha_lista)"
   ]
  },
  {
   "cell_type": "markdown",
   "metadata": {
    "colab_type": "text",
    "id": "Lgj_r26Tjgzn"
   },
   "source": [
    "Para selecionar um *range* de dados na lista, basta utilizar a seguinte notação:\n",
    "\n",
    "```python\n",
    "print(minha_lista[0:4])\n",
    "```\n",
    "> **Nota:** Retorna uma nova lista contendo o conteúdo de *minha_lista* da posição **0** (*inclusive*) a posição **4** (*exclusive*).\n",
    "\n",
    "Quando a seleção partir do início da lista, o índice **0** pode ser omitido:\n",
    "\n",
    "```python\n",
    "print(minha_lista[:4])\n",
    "```\n",
    "\n",
    "Para uma lista completa:\n",
    "\n",
    "```python\n",
    "print(minha_lista[:])\n",
    "```\n",
    "\n",
    "Ou podemos simplesmente escolher um *range* genérico como demonstrado acima:\n",
    "\n",
    "```python\n",
    "print(minha_lista[3:6])\n",
    "```"
   ]
  },
  {
   "cell_type": "code",
   "execution_count": null,
   "metadata": {
    "colab": {},
    "colab_type": "code",
    "id": "mfnoB_SWjgzo"
   },
   "outputs": [],
   "source": [
    "print(minha_lista)"
   ]
  },
  {
   "cell_type": "code",
   "execution_count": null,
   "metadata": {
    "colab": {},
    "colab_type": "code",
    "id": "mfnoB_SWjgzo"
   },
   "outputs": [],
   "source": [
    "print(minha_lista[0:4])"
   ]
  },
  {
   "cell_type": "code",
   "execution_count": null,
   "metadata": {
    "colab": {},
    "colab_type": "code",
    "id": "mfnoB_SWjgzo"
   },
   "outputs": [],
   "source": [
    "print(minha_lista[:4])"
   ]
  },
  {
   "cell_type": "code",
   "execution_count": null,
   "metadata": {
    "colab": {},
    "colab_type": "code",
    "id": "mfnoB_SWjgzo"
   },
   "outputs": [],
   "source": [
    "print(minha_lista[:])"
   ]
  },
  {
   "cell_type": "code",
   "execution_count": null,
   "metadata": {
    "colab": {},
    "colab_type": "code",
    "id": "mfnoB_SWjgzo"
   },
   "outputs": [],
   "source": [
    "print(minha_lista[3:])"
   ]
  },
  {
   "cell_type": "markdown",
   "metadata": {
    "colab_type": "text",
    "id": "8NGSCjnTjgzr"
   },
   "source": [
    "Para criar listas bidimensionais como matrizes, basta incluir blocos de listas dentro da uma lista:\n",
    "\n",
    "```python\n",
    "lista_bidimensional = [[1, 2], [3, 4], [5, 6]]\n",
    "```\n",
    "\n",
    "Para acessar a primeira lista da lista bidimensional criada acima, a qual [1, 2], basta acessar o índice **0** da mesma:\n",
    "\n",
    "```python\n",
    "print(lista_bidimensional[0])\n",
    "```\n",
    "\n",
    "Se quisermos acessar o segundo valor da segunda lista da mesma lista, o qual o valor **4**, procedemos da seguinte forma:\n",
    "\n",
    "```python\n",
    "print(lista_bidimensional[1][1])\n",
    "```"
   ]
  },
  {
   "cell_type": "code",
   "execution_count": null,
   "metadata": {
    "colab": {},
    "colab_type": "code",
    "id": "uqnKttkLjgzt"
   },
   "outputs": [],
   "source": [
    "lista_bidimensional = [[1, 2], [3, 4], [5, 6]]\n",
    "\n",
    "print(lista_bidimensional)"
   ]
  },
  {
   "cell_type": "code",
   "execution_count": null,
   "metadata": {
    "colab": {},
    "colab_type": "code",
    "id": "uqnKttkLjgzt"
   },
   "outputs": [],
   "source": [
    "print(lista_bidimensional[0])"
   ]
  },
  {
   "cell_type": "code",
   "execution_count": null,
   "metadata": {
    "colab": {},
    "colab_type": "code",
    "id": "uqnKttkLjgzt"
   },
   "outputs": [],
   "source": [
    "print(lista_bidimensional[1][1])"
   ]
  },
  {
   "cell_type": "markdown",
   "metadata": {
    "colab_type": "text",
    "id": "ptN0Bk55jgzx"
   },
   "source": [
    "### Funções Auxiliares\n",
    "\n",
    "Python vem com algumas funções auxiliares para utilizarmos junto das listas:\n",
    "\n",
    "#### append()\n",
    "\n",
    "Permite incluir um novo item ao final da lista. A função recebe um parâmetro, `append(parâmetro)`. Para incluir **3** ao final da lista:\n",
    "\n",
    "```python\n",
    "lista.append(3)\n",
    "```\n",
    "\n",
    "#### insert()\n",
    "\n",
    "Permite incluir um novo item em uma posição desejada. A função recebe dois parâmetros, `insert(índice, valor)`. O primeiro (*índice*) é a posição em que desejamos incluir o novo item e o segundo (*valor*) é o item que desejamos incluir na lista. Para incluir **Morango** como segundo elemento na lista:\n",
    "\n",
    "```python\n",
    "lista.insert(2, 'Morango')\n",
    "```"
   ]
  },
  {
   "cell_type": "code",
   "execution_count": null,
   "metadata": {
    "colab": {},
    "colab_type": "code",
    "id": "-AaTEb4mjgzy"
   },
   "outputs": [],
   "source": [
    "lista = ['Abacaxi', 'Banana', 'Laranja']"
   ]
  },
  {
   "cell_type": "code",
   "execution_count": null,
   "metadata": {
    "colab": {},
    "colab_type": "code",
    "id": "-AaTEb4mjgzy"
   },
   "outputs": [],
   "source": [
    "lista.append(3)\n",
    "\n",
    "print(lista)"
   ]
  },
  {
   "cell_type": "code",
   "execution_count": null,
   "metadata": {},
   "outputs": [],
   "source": [
    "lista.insert(2, 'Morango')\n",
    "\n",
    "print(lista)"
   ]
  },
  {
   "cell_type": "markdown",
   "metadata": {
    "colab_type": "text",
    "id": "4Mz4CmvWjgz3"
   },
   "source": [
    "#### remove()\n",
    "\n",
    "Permite remover um valor da lista. A função recebe um parâmetro, `remove(valor)`. Para remover **Morango** da lista:"
   ]
  },
  {
   "cell_type": "code",
   "execution_count": null,
   "metadata": {
    "colab": {},
    "colab_type": "code",
    "id": "hEQvKJ-Jjgz4"
   },
   "outputs": [],
   "source": [
    "lista.remove('Morango')\n",
    "print(lista)"
   ]
  },
  {
   "cell_type": "markdown",
   "metadata": {
    "colab_type": "text",
    "id": "5sPx94R5jgz9"
   },
   "source": [
    "#### sorted()\n",
    "\n",
    "Permite ordenar a lista e leva como parâmetro a lista que se deseja ordenar, `sorted(lista)`. Para aplicar uma ordenação na lista:"
   ]
  },
  {
   "cell_type": "code",
   "execution_count": null,
   "metadata": {
    "colab": {},
    "colab_type": "code",
    "id": "YlooFL8ujg0A"
   },
   "outputs": [],
   "source": [
    "lista = [33, 2, 565, 1, 0, -22]\n",
    "sorted(lista)"
   ]
  },
  {
   "cell_type": "markdown",
   "metadata": {
    "colab_type": "text",
    "id": "rSv2HImjjg0G"
   },
   "source": [
    "#### len()\n",
    "\n",
    "Retorna o tamanho da lista e para isso recebe a lista em questão como parâmetro de entrada, `len(lista)`. Para aplicar a função `len()` na lista:"
   ]
  },
  {
   "cell_type": "code",
   "execution_count": null,
   "metadata": {
    "colab": {},
    "colab_type": "code",
    "id": "TVmhBxvnjg0I"
   },
   "outputs": [],
   "source": [
    "len(lista)"
   ]
  },
  {
   "cell_type": "markdown",
   "metadata": {
    "colab_type": "text",
    "id": "lmBJlgwdjg0L"
   },
   "source": [
    "#### max()\n",
    "\n",
    "Retorna o maior valor de uma lista e para isso recebe a lista em questão como parâmetro de entrada, `max(lista)`. Para aplicar a função `max()` em uma lista:\n",
    "\n",
    "```python\n",
    "max(lista)\n",
    "```\n",
    "\n",
    "> **Nota:** Para aplicar a função `max()` é necessário que nossa lista seja composta de apenas um tipo de dado, por exemplo, seja uma lista de números."
   ]
  },
  {
   "cell_type": "code",
   "execution_count": null,
   "metadata": {
    "colab": {},
    "colab_type": "code",
    "id": "5zx4mTMwjg0M"
   },
   "outputs": [],
   "source": [
    "max(lista)"
   ]
  },
  {
   "cell_type": "markdown",
   "metadata": {
    "colab_type": "text",
    "id": "OXYgNy7wjg0P"
   },
   "source": [
    "#### min()\n",
    "\n",
    "Retorna o menor valor de uma lista e para isso recebe a lista em questão como parâmetro de entrada, `min(lista)`. Para aplicar a função `min()` em uma lista:\n",
    "\n",
    "```python\n",
    "min(lista)\n",
    "```\n",
    "\n",
    "> **Nota:** Para aplicar a função `min()` é necessário que nossa lista seja composta de apenas um tipo de dado, por exemplo, seja uma lista de números."
   ]
  },
  {
   "cell_type": "code",
   "execution_count": null,
   "metadata": {
    "colab": {},
    "colab_type": "code",
    "id": "vAo1x9NRjg0Q"
   },
   "outputs": [],
   "source": [
    "min(lista)"
   ]
  },
  {
   "cell_type": "markdown",
   "metadata": {},
   "source": [
    "##### Exercício: calcular a média da lista acima."
   ]
  },
  {
   "cell_type": "code",
   "execution_count": null,
   "metadata": {},
   "outputs": [],
   "source": [
    "# codificando..."
   ]
  },
  {
   "cell_type": "markdown",
   "metadata": {},
   "source": [
    "## Importando pacotes no Python\n",
    "\n",
    "Para importar pacotes basta incluir o comando `import` seguido pelo nome do pacote:\n",
    "\n",
    "```python\n",
    "import numpy\n",
    "```\n",
    "\n",
    "É possível também simplificar o nome do pacote no momento de sua inclusão como demonstrado abaixo:\n",
    "\n",
    "```python\n",
    "import numpy as np\n",
    "```\n",
    "\n",
    "Desta maneira, podemos acessar o conteúdo da biblioteca **Numpy** utilizando o alias \"**np**\" (https://pt.wikipedia.org/wiki/Alias_(comando)."
   ]
  },
  {
   "cell_type": "code",
   "execution_count": null,
   "metadata": {},
   "outputs": [],
   "source": [
    "import numpy as np"
   ]
  },
  {
   "cell_type": "code",
   "execution_count": null,
   "metadata": {},
   "outputs": [],
   "source": [
    "np.mean(lista)"
   ]
  },
  {
   "cell_type": "code",
   "execution_count": null,
   "metadata": {},
   "outputs": [],
   "source": [
    "from numpy import mean"
   ]
  },
  {
   "cell_type": "code",
   "execution_count": null,
   "metadata": {},
   "outputs": [],
   "source": [
    "mean(lista)"
   ]
  },
  {
   "cell_type": "markdown",
   "metadata": {
    "colab_type": "text",
    "id": "Zj5jGjnBjg0S"
   },
   "source": [
    "## Tuplas\n",
    "\n",
    "Tuplas são muito similares às listas, com apenas uma exceção:\n",
    "\n",
    "> Tuplas são imutáveis, ou seja, uma vez criada uma tupla mantém seu valor até o final da execução do programa.\n",
    "\n",
    "Para criar uma tupla:"
   ]
  },
  {
   "cell_type": "code",
   "execution_count": null,
   "metadata": {
    "colab": {},
    "colab_type": "code",
    "id": "1SxopgQ3jg0T"
   },
   "outputs": [],
   "source": [
    "tupla = (2, 4, 22, 'Morango')\n",
    "\n",
    "print(tupla)"
   ]
  },
  {
   "cell_type": "markdown",
   "metadata": {
    "colab_type": "text",
    "id": "TyOu0HUJjg0U"
   },
   "source": [
    "Podemos aplicar as funções `len()`, `max()` e `min()` da mesma forma em nossa tupla:\n",
    "\n",
    "```python\n",
    "print(len(tupla))\n",
    "print(max(tupla))\n",
    "print(min(tupla))\n",
    "```\n",
    "\n",
    "> __Nota:__ Para aplicar as funções `max()` e `min()` vale a mesma regra; É necessário que nossa tupla seja composta de apenas um tipo de dado, por exemplo, seja uma tupla de números."
   ]
  },
  {
   "cell_type": "code",
   "execution_count": null,
   "metadata": {
    "colab": {},
    "colab_type": "code",
    "id": "Xdh3NmoWjg0V"
   },
   "outputs": [],
   "source": [
    "print(len(tupla))"
   ]
  },
  {
   "cell_type": "markdown",
   "metadata": {
    "colab_type": "text",
    "id": "4NPUrBzDjg0X"
   },
   "source": [
    "Podemos acessar um dado específico em uma tupla da mesma maneira que fazemos em uma lista:"
   ]
  },
  {
   "cell_type": "code",
   "execution_count": null,
   "metadata": {
    "colab": {},
    "colab_type": "code",
    "id": "9DxGcxe0jg0X"
   },
   "outputs": [],
   "source": [
    "print(tupla[0])"
   ]
  },
  {
   "cell_type": "code",
   "execution_count": null,
   "metadata": {
    "colab": {},
    "colab_type": "code",
    "id": "9DxGcxe0jg0X",
    "scrolled": true
   },
   "outputs": [],
   "source": [
    "print(tupla[3])"
   ]
  },
  {
   "cell_type": "markdown",
   "metadata": {
    "colab_type": "text",
    "id": "ccR9tw8Yjg0a"
   },
   "source": [
    "## Dicionários\n",
    "\n",
    "Dicionários são estruturas de dados compostas de *chave : valor*. Exemplo:\n",
    "\n",
    "```python\n",
    "dicionario = {\n",
    "    \"nome\" : \"Carlos\",\n",
    "    \"idade\" : 41,\n",
    "    \"sexo\" : \"M\",\n",
    "    \"peso\" : 97,\n",
    "    \"casado\" : False\n",
    "}\n",
    "```\n",
    "\n",
    "Cada par de informação nessa estrutura de dados é composta por sua chave e valor correspondente, desta forma identificamos o valor **Carlos** na chave **nome** e o valor **97** na chave **peso**.\n",
    "\n",
    "Podemos acessar as informações do nosso dicionário diretamente por sua chave, como fazemos com uma lista pelo seu índice:"
   ]
  },
  {
   "cell_type": "code",
   "execution_count": null,
   "metadata": {
    "colab": {},
    "colab_type": "code",
    "id": "jvj7HkKGjg0e"
   },
   "outputs": [],
   "source": [
    "dicionario = {\"nome\" : \"Carlos\", \n",
    "              \"idade\" : 41, \n",
    "              \"sexo\" : \"M\", \n",
    "              \"peso\" : 97, \n",
    "              \"casado\" : False}"
   ]
  },
  {
   "cell_type": "code",
   "execution_count": null,
   "metadata": {},
   "outputs": [],
   "source": [
    "print(dicionario)"
   ]
  },
  {
   "cell_type": "code",
   "execution_count": null,
   "metadata": {},
   "outputs": [],
   "source": [
    "novo_dicionario = {\"nome\" : \"Carlos\", \n",
    "                   \"idade\" : [41, 45, 78]}"
   ]
  },
  {
   "cell_type": "code",
   "execution_count": null,
   "metadata": {},
   "outputs": [],
   "source": [
    "print(novo_dicionario)"
   ]
  },
  {
   "cell_type": "code",
   "execution_count": null,
   "metadata": {},
   "outputs": [],
   "source": [
    "dicionario_aninhado = {'section1': {'key1': 'value1', 'key2':'value2'}, \n",
    "                       'section2': {'key3': 'value3', 'key4': 'value4'}}"
   ]
  },
  {
   "cell_type": "code",
   "execution_count": null,
   "metadata": {
    "scrolled": true
   },
   "outputs": [],
   "source": [
    "print(dicionario_aninhado['section1']['key1'])\n",
    "print(dicionario_aninhado['section2']['key4'])"
   ]
  },
  {
   "cell_type": "markdown",
   "metadata": {
    "colab_type": "text",
    "id": "gO5dKAwOjgy9"
   },
   "source": [
    "_**!!!** Antes de executar cada uma das 5 células seguintes, substitua nos comentários o caracter **'?'** pela reposta esperada **!!!**_"
   ]
  },
  {
   "cell_type": "code",
   "execution_count": null,
   "metadata": {
    "colab": {},
    "colab_type": "code",
    "id": "jvj7HkKGjg0e"
   },
   "outputs": [],
   "source": [
    "print(dicionario['sexo']) # Retorna ?"
   ]
  },
  {
   "cell_type": "code",
   "execution_count": null,
   "metadata": {
    "colab": {},
    "colab_type": "code",
    "id": "jvj7HkKGjg0e"
   },
   "outputs": [],
   "source": [
    "print(dicionario['idade']) # Retorna ?"
   ]
  },
  {
   "cell_type": "code",
   "execution_count": null,
   "metadata": {
    "colab": {},
    "colab_type": "code",
    "id": "jvj7HkKGjg0e"
   },
   "outputs": [],
   "source": [
    "print(dicionario['casado']) # Retorna ?"
   ]
  },
  {
   "cell_type": "code",
   "execution_count": null,
   "metadata": {
    "colab": {},
    "colab_type": "code",
    "id": "jvj7HkKGjg0e",
    "scrolled": true
   },
   "outputs": [],
   "source": [
    "print(dicionario['nome']) # Retorna ?"
   ]
  },
  {
   "cell_type": "code",
   "execution_count": null,
   "metadata": {
    "colab": {},
    "colab_type": "code",
    "id": "jvj7HkKGjg0e"
   },
   "outputs": [],
   "source": [
    "print(dicionario['peso']) # Retorna ?"
   ]
  },
  {
   "cell_type": "markdown",
   "metadata": {
    "colab_type": "text",
    "id": "T8pM_fBQjg0h"
   },
   "source": [
    "Para identificar a existência de uma determinada chave em um dicionário:\n",
    "    \n",
    "```python\n",
    "'nome' in novo_dicionario\n",
    "```\n",
    "\n",
    "Retornará *True* caso positivo e *False* caso negativo."
   ]
  },
  {
   "cell_type": "code",
   "execution_count": null,
   "metadata": {
    "colab": {},
    "colab_type": "code",
    "id": "S4sBxa4Yjg0j"
   },
   "outputs": [],
   "source": [
    "print('nome' in novo_dicionario)"
   ]
  },
  {
   "cell_type": "code",
   "execution_count": null,
   "metadata": {
    "colab": {},
    "colab_type": "code",
    "id": "S4sBxa4Yjg0j"
   },
   "outputs": [],
   "source": [
    "print('endereço' in novo_dicionario)"
   ]
  },
  {
   "cell_type": "markdown",
   "metadata": {
    "colab_type": "text",
    "id": "hP2U1c2Mjg0m"
   },
   "source": [
    "Para criar um dicionário instanciando um dicionário vazio em uma variável:\n",
    "\n",
    "```python\n",
    "outro_dicionario = dict()\n",
    "```\n",
    "\n",
    "Após iniciar este novo dicionário podemos preencher seu conteúdo atribuindo sua chave diretamente. Caso a chave já exista, seu valor será atualizado pelo novo valor fornecido, caso não exista, um novo valor é incluído ao dicionário representado pela chave atribuída, por exemplo:\n",
    "\n",
    "```python\n",
    "outro_dicionario['nome'] = 'Raul'\n",
    "outro_dicionario['idade'] = 88\n",
    "outro_dicionario['sexo'] = 'M'\n",
    "outro_dicionario['peso'] = 80\n",
    "outro_dicionario['casado'] = False\n",
    "```"
   ]
  },
  {
   "cell_type": "code",
   "execution_count": null,
   "metadata": {
    "colab": {},
    "colab_type": "code",
    "id": "RUKs3HtSjg0m"
   },
   "outputs": [],
   "source": [
    "# inicializando um dicionário\n",
    "outro_dicionario = dict()"
   ]
  },
  {
   "cell_type": "code",
   "execution_count": null,
   "metadata": {
    "colab": {},
    "colab_type": "code",
    "id": "RUKs3HtSjg0m"
   },
   "outputs": [],
   "source": [
    "# incluindo a primeira chave : valor\n",
    "outro_dicionario['nome'] = 'Raul'\n",
    "\n",
    "print(outro_dicionario)"
   ]
  },
  {
   "cell_type": "code",
   "execution_count": null,
   "metadata": {
    "colab": {},
    "colab_type": "code",
    "id": "RUKs3HtSjg0m"
   },
   "outputs": [],
   "source": [
    "# incluindo a segunda chave : valor\n",
    "outro_dicionario['idade'] = 88\n",
    "\n",
    "print(outro_dicionario)"
   ]
  },
  {
   "cell_type": "code",
   "execution_count": null,
   "metadata": {
    "colab": {},
    "colab_type": "code",
    "id": "RUKs3HtSjg0m"
   },
   "outputs": [],
   "source": [
    "# incluindo as demais chaves : valores\n",
    "outro_dicionario['sexo'] = 'M'\n",
    "outro_dicionario['peso'] = 80\n",
    "outro_dicionario['casado'] = False\n",
    "\n",
    "print(outro_dicionario)"
   ]
  },
  {
   "cell_type": "markdown",
   "metadata": {
    "colab_type": "text",
    "id": "dHxgH--Ljg0t"
   },
   "source": [
    "## Condicionais\n",
    "\n",
    "Condições são executadas caso seu valor de comparação retorne positivo, isto é, se algo for verdade, então, faça alguma coisa, senão, faça outra coisa.\n",
    "\n",
    "Condições são representadas pelos *`if/else statement`* e podemos ler da seguinte maneira:\n",
    "```\n",
    "Se <condição>, então:\n",
    "    Faça isso.\n",
    "Ou se <condição>, então:\n",
    "    Faça isso.\n",
    "Senão:\n",
    "    Faça isso.\n",
    "```\n",
    "    \n",
    "Seu relativo em Python seria:\n",
    "\n",
    "```python\n",
    "var_a = 32\n",
    "\n",
    "if var_a < 40:\n",
    "    print('É menor que 40')\n",
    "elif var_a == 40:\n",
    "    print('É igual a 40')\n",
    "else:\n",
    "    print('É maior que 40)\n",
    "```"
   ]
  },
  {
   "cell_type": "code",
   "execution_count": null,
   "metadata": {
    "colab": {},
    "colab_type": "code",
    "id": "lfyPBNX-jg0t"
   },
   "outputs": [],
   "source": [
    "# Codificando..."
   ]
  },
  {
   "cell_type": "markdown",
   "metadata": {
    "colab_type": "text",
    "id": "pO9fRQTWjg0w"
   },
   "source": [
    "Podemos, inclusive, verificar se um dado número é ímpar ou par. Lembra do operador *módulo* (**%**)?\n",
    "\n",
    "Sabemos que um número par é sempre divisível por 2, então o resto de sua divisão por 2 será sempre 0, certo?"
   ]
  },
  {
   "cell_type": "code",
   "execution_count": null,
   "metadata": {
    "colab": {},
    "colab_type": "code",
    "id": "THJBObQ1jg0x"
   },
   "outputs": [],
   "source": [
    "numero_1 = 468\n",
    "numero_2 = 37\n",
    "\n",
    "# Verificando o resto da divisão por 2\n",
    "print(numero_1 % 2)\n",
    "print(numero_2 % 2)"
   ]
  },
  {
   "cell_type": "markdown",
   "metadata": {
    "colab_type": "text",
    "id": "JeoWGpzmjg0z"
   },
   "source": [
    "Podemos aplicar lógica de comparação para verificar se o valor resultante da operação é igual a 0:"
   ]
  },
  {
   "cell_type": "code",
   "execution_count": null,
   "metadata": {
    "colab": {},
    "colab_type": "code",
    "id": "tSX5IcYujg00",
    "scrolled": true
   },
   "outputs": [],
   "source": [
    "print(numero_1 % 2 == 0)\n",
    "print(numero_2 % 2 == 0)"
   ]
  },
  {
   "cell_type": "markdown",
   "metadata": {
    "colab_type": "text",
    "id": "JBnx1sK1jg03"
   },
   "source": [
    "Verificamos que a variável *numero_1* guarda um número onde o resto de sua divisão pelo número 2 é 0; e a variável *numero_2* guarda um número onde o resto de sua divisão pelo número 2 é 1.\n",
    "\n",
    "Faz sentido se pensarmos que ao dividir 468 por 2, temos o valor exato de 234. Já quando dividimos 37 por 2, temos o valor 18 e resto 1.\n",
    "\n",
    "Podemos unir o que verificamos acima em uma condição *`if/else`* para imprimir uma *string*, como por exemplo:"
   ]
  },
  {
   "cell_type": "code",
   "execution_count": null,
   "metadata": {
    "colab": {},
    "colab_type": "code",
    "id": "oa3OiTEdjg05"
   },
   "outputs": [],
   "source": [
    "if numero_1 % 2 == 0:\n",
    "    print('Primeiro número é par')\n",
    "else:\n",
    "    print('Primeiro número é ímpar')"
   ]
  },
  {
   "cell_type": "code",
   "execution_count": null,
   "metadata": {
    "colab": {},
    "colab_type": "code",
    "id": "oa3OiTEdjg05"
   },
   "outputs": [],
   "source": [
    "if numero_2 % 2 == 0:\n",
    "    print('Segundo número é par')\n",
    "else:\n",
    "    print('Segundo número é ímpar')"
   ]
  },
  {
   "cell_type": "markdown",
   "metadata": {
    "colab_type": "text",
    "id": "H9KNgTWLjg08"
   },
   "source": [
    "## Loops\n",
    "\n",
    "Existem dois tipos de loops em Python, são eles:\n",
    "\n",
    "### For Loops\n",
    "\n",
    "Varrem uma lista/*array* de informação e executam um bloco de ação para cada item encontrado ou para cada instância de execução, por exemplo:\n",
    "\n",
    "```\n",
    "Para cada item em uma lista de itens, faça:\n",
    "    Bloco de ação\n",
    "```\n",
    "\n",
    "Em Python, temos:\n",
    "\n",
    "```python\n",
    "for item in lista_itens:\n",
    "    print(item)\n",
    "```\n",
    "\n",
    "Seja *lista_itens* uma lista ou *array* qualquer, o `for` irá percorrer cada item da lista, imprimindo seu valor ao usuário."
   ]
  },
  {
   "cell_type": "code",
   "execution_count": null,
   "metadata": {
    "colab": {},
    "colab_type": "code",
    "id": "UpsfkdWajg0_",
    "scrolled": true
   },
   "outputs": [],
   "source": [
    "lista_itens = ['Raul', 'José', 23, 44, True, False]\n",
    "\n",
    "for item in lista_itens:\n",
    "    print(item)"
   ]
  },
  {
   "cell_type": "markdown",
   "metadata": {
    "colab_type": "text",
    "id": "UCZ9FiuAjg1D"
   },
   "source": [
    "Podemos receber uma tupla de informação contendo o valor do item e sua posição na lista (ou *array*) de informação utilizando a função ```enumerate()``` junto a nosso `for` *loop*, como por exemplo:"
   ]
  },
  {
   "cell_type": "code",
   "execution_count": null,
   "metadata": {
    "colab": {},
    "colab_type": "code",
    "id": "jMSWJo7Zjg1E",
    "scrolled": false
   },
   "outputs": [],
   "source": [
    "for index, item in enumerate(lista_itens):\n",
    "    print('Item : {0} na posição {1} da lista'.format(item, index))"
   ]
  },
  {
   "cell_type": "markdown",
   "metadata": {
    "colab_type": "text",
    "id": "PzzgTUaojg1G"
   },
   "source": [
    "### While Loops\n",
    "\n",
    "Executam um bloco de ação enquanto alguma condição é satisfeita, por exemplo:\n",
    "\n",
    "```\n",
    "Enquanto condição é satisfeita, faça:\n",
    "    Bloco de ação\n",
    "```\n",
    "\n",
    "Em Python, temos:\n",
    " \n",
    "```python\n",
    "contador = 0\n",
    "\n",
    "while contador < 10:\n",
    "    contador += 1\n",
    "```\n",
    "\n",
    "No exemplo acima declaramos uma variável *contador* e atribuímos **0** ao seu valor. Executamos um `while` *loop* e dentro deste *loop* somamos **1** ao valor do contador. O *loop* é executado enquanto o valor de *contador* seja menor que **10**."
   ]
  },
  {
   "cell_type": "code",
   "execution_count": null,
   "metadata": {
    "colab": {},
    "colab_type": "code",
    "id": "kJMSEXrKjg1K"
   },
   "outputs": [],
   "source": [
    "contador = 0\n",
    "\n",
    "while contador < 10:\n",
    "    contador += 1\n",
    "    \n",
    "print(contador)"
   ]
  },
  {
   "cell_type": "code",
   "execution_count": null,
   "metadata": {},
   "outputs": [],
   "source": [
    "contador = 0\n",
    "\n",
    "while contador < 10:\n",
    "    print(contador)\n",
    "    contador += 1 # contador = contador + 1\n",
    "\n",
    "print()\n",
    "print(contador)"
   ]
  },
  {
   "cell_type": "markdown",
   "metadata": {
    "colab_type": "text",
    "id": "qP_4wtJMjg1N"
   },
   "source": [
    "Dentro dos loops temos também o **break statement** e o **continue statement** que nos permite terminar um loop dependendo de uma certa condição (utilizando **break**) ou ignorar um loop dependendo de uma certa condição (utilizando **continue**).\n",
    "\n",
    "Para exemplificar, vamos imaginar que temos uma lista onde queremos somar seus valores, porém, queremos que caso o valor seja o número **7** a soma não ocorra e caso o número seja **10**, a soma dos valores desta lista seja interrompida.\n",
    "\n",
    "Podemos atingir o desejado utilizando **break** e **continue**. Segue:"
   ]
  },
  {
   "cell_type": "code",
   "execution_count": null,
   "metadata": {
    "colab": {},
    "colab_type": "code",
    "id": "hytmbqUkjg1N"
   },
   "outputs": [],
   "source": [
    "lista = [1, 6, 4, 7, 9, 33, 10, 42, 98]\n",
    "\n",
    "contador = 0\n",
    "\n",
    "for item in lista:\n",
    "    if item == 7:\n",
    "        continue\n",
    "    elif item == 10:\n",
    "        break\n",
    "    else:\n",
    "        contador += item\n",
    "        \n",
    "print(contador)"
   ]
  },
  {
   "cell_type": "markdown",
   "metadata": {
    "colab_type": "text",
    "id": "NEd9Lp4Cjg1R"
   },
   "source": [
    "O loop acima executou exatamente a soma dos números 1, 6, 4, 9 e 33 totalizando 53.\n",
    "\n",
    "$$\n",
    "1+6+4+9+33=53\n",
    "$$\n",
    "\n",
    "Respeitando nossa condição de **continue** caso o número seja 7 e **break** caso o número seja 10."
   ]
  },
  {
   "cell_type": "code",
   "execution_count": null,
   "metadata": {
    "colab": {},
    "colab_type": "code",
    "id": "aB-el12Rjg1S"
   },
   "outputs": [],
   "source": [
    "# Executando esta soma diretamente com Python, temos:\n",
    "1 + 6 + 4 + 9 + 33"
   ]
  },
  {
   "cell_type": "markdown",
   "metadata": {
    "colab_type": "text",
    "id": "vJlqcEBqjg1V"
   },
   "source": [
    "## Funções\n",
    "\n",
    "Funções são blocos de código capazes de efetuar uma determinada ação toda vez que são chamados. Vimos acima alguns exemplos de funções como quando utilizamos ```enumerate()``` para retornar uma tupla em nosso `for` *loop* ou a própria função ```print()``` que utilizamos para imprimir valores na tela.\n",
    "\n",
    "Funções podem ou não receber valores como parâmetros, vale lembrar que estes valores são apenas visíveis ao bloco da função, ou seja, não tem definição fora deste bloco - [escopo](https://pt.wikipedia.org/wiki/Escopo_(computa%C3%A7%C3%A3o)).\n",
    "\n",
    "Podemos declarar uma função em Python da seguinte forma:\n",
    "\n",
    "```python\n",
    "def nome_da_funcao():\n",
    "    # bloco de código dentro do escopo da função\n",
    "```\n",
    "\n",
    "Por exemplo, vamos declarar uma função ```print_bom_dia()``` que vai imprimir na tela a *string* **Bom dia!**:"
   ]
  },
  {
   "cell_type": "code",
   "execution_count": null,
   "metadata": {
    "colab": {},
    "colab_type": "code",
    "id": "qd7g78tdjg1Y"
   },
   "outputs": [],
   "source": [
    "def print_bom_dia():\n",
    "    print('Bom dia!')"
   ]
  },
  {
   "cell_type": "code",
   "execution_count": null,
   "metadata": {
    "colab": {},
    "colab_type": "code",
    "id": "qd7g78tdjg1Y"
   },
   "outputs": [],
   "source": [
    "# Executando a função criada acima\n",
    "print_bom_dia()"
   ]
  },
  {
   "cell_type": "markdown",
   "metadata": {
    "colab_type": "text",
    "id": "d9jWRKvujg1c"
   },
   "source": [
    "Podemos elaborar melhor a função e enviar um nome como parâmetro para a função e imprimir uma string de bom dia dinâmica com o valor deste parâmetro de *input*.\n",
    "\n",
    "Vamos declarar uma variável de parâmetro para a função que receberá o nome desejado:"
   ]
  },
  {
   "cell_type": "code",
   "execution_count": null,
   "metadata": {
    "colab": {},
    "colab_type": "code",
    "id": "Bo0hQmd8jg1g"
   },
   "outputs": [],
   "source": [
    "def print_bom_dia(nome):\n",
    "    print('Bom dia, {0}!'.format(nome))"
   ]
  },
  {
   "cell_type": "code",
   "execution_count": null,
   "metadata": {
    "colab": {},
    "colab_type": "code",
    "id": "Bo0hQmd8jg1g"
   },
   "outputs": [],
   "source": [
    "# Executa a função criada acima, passando José como parâmetro\n",
    "print_bom_dia('José')"
   ]
  },
  {
   "cell_type": "markdown",
   "metadata": {
    "colab_type": "text",
    "id": "nk_eVWZcjg1q"
   },
   "source": [
    "Além disso podemos também determinar valores _default_ para nossos parâmetros de entrada, isso significa que, caso nada seja passado como parâmetro para a função, este valor padrão será utilizado:"
   ]
  },
  {
   "cell_type": "code",
   "execution_count": null,
   "metadata": {
    "colab": {},
    "colab_type": "code",
    "id": "32TN87Xjjg1q"
   },
   "outputs": [],
   "source": [
    "def print_bom_dia(nome = 'José'):\n",
    "    print('Bom dia, {0}!'.format(nome))\n",
    "    \n",
    "# Executa a função criada acima, passando José como parâmetro\n",
    "print_bom_dia('João')\n",
    "\n",
    "# Executa a função criada acima, utilizando o valor padrão para o parâmetro nome\n",
    "print_bom_dia()"
   ]
  },
  {
   "cell_type": "markdown",
   "metadata": {
    "colab_type": "text",
    "id": "O49HdOGVjg1v"
   },
   "source": [
    "Podemos passar a uma função quantos valores de parâmetro julgarmos necessário, lembrando que temos que respeitar a ordem que declaramos esses parâmetros quando utilizamos a função, por exemplo:\n",
    "\n",
    "```python\n",
    "def funcao(nome, idade, sexo):\n",
    "    # código...\n",
    "    \n",
    "funcao('Jorge', 32, 'masculino')\n",
    "```\n",
    "\n",
    "Ou podemos referenciar cada parâmetro, neste caso, não importando a ordem em que foram declarados:\n",
    "\n",
    "```python\n",
    "def funcao(nome, idade, sexo):\n",
    "    # código...\n",
    "    \n",
    "funcao(idade = 23, sexo = 'feminino', nome = 'Gabrielle')\n",
    "```"
   ]
  },
  {
   "cell_type": "code",
   "execution_count": null,
   "metadata": {
    "colab": {},
    "colab_type": "code",
    "id": "cynbScFxjg1x"
   },
   "outputs": [],
   "source": [
    "def funcao(nome, idade, sexo):\n",
    "    print('{0} tem {1} anos, sexo {2}'.format(nome, idade, sexo))\n",
    "    \n",
    "funcao('José', 32, 'masculino')\n",
    "funcao(idade = 23, sexo = 'feminino', nome = 'Maria')"
   ]
  },
  {
   "cell_type": "code",
   "execution_count": null,
   "metadata": {
    "colab": {},
    "colab_type": "code",
    "id": "cynbScFxjg1x"
   },
   "outputs": [],
   "source": [
    "def funcao2(nome, idade, sexo):\n",
    "    print(nome, 'tem', idade, 'anos, sexo', sexo)\n",
    "    \n",
    "funcao2('Jorge', 32, 'masculino')"
   ]
  },
  {
   "cell_type": "markdown",
   "metadata": {
    "colab_type": "text",
    "id": "Q5FAPcZOjg11"
   },
   "source": [
    "Vimos a possibilidade acima de retornar uma tupla quando utilizamos a função ```enumerate()```, vamos criar nossa própria função que retorna o valor de um número elevado a potência de 2 e multiplicado por 2:\n",
    "\n",
    "```python\n",
    "def retorna_tupla(numero):\n",
    "    return (numero ** 2, numero * 2)\n",
    "```\n",
    "\n",
    "Note que utilizamos a palavra reservada **return** passando uma tupla com duas expressões matemáticas dentro. \n",
    "\n",
    "> __Nota:__ Como o nome diz, **return** nos retorna um valor, é utilizada toda vez que uma função tem algum retorno.\n",
    "\n",
    "No caso demonstrado acima, nossa função está retornando uma tupla de valores, onde estes valores são as operações matemáticas.\n",
    "\n",
    "Para simplificar o entendimento, poderíamos reescrever está mesma função da seguinte forma:\n",
    "\n",
    "```python\n",
    "def retorna_tupla(numero):\n",
    "    valor_potencia = numero ** 2\n",
    "    valor_multiplicacao = numero * 2\n",
    "    return (valor_potencia, valor_multiplicacao)\n",
    "```\n",
    "\n",
    "Para receber estes valores, basta separar por vírgula nossas variáveis que receberão os *outputs* da função:\n",
    "\n",
    "```python\n",
    "retorno_potencia, retorno_multiplicacao = retorna_tupla(8)\n",
    "```"
   ]
  },
  {
   "cell_type": "code",
   "execution_count": null,
   "metadata": {
    "colab": {},
    "colab_type": "code",
    "id": "V6nDB9--jg13"
   },
   "outputs": [],
   "source": [
    "def retorna_tupla(numero):\n",
    "    return(numero ** 2, numero * 2)\n",
    "\n",
    "retorno_potencia, retorno_multiplicacao = retorna_tupla(10)\n",
    "\n",
    "print(retorno_potencia)\n",
    "print(retorno_multiplicacao)"
   ]
  },
  {
   "cell_type": "markdown",
   "metadata": {
    "colab_type": "text",
    "id": "GytlGAvDjg15"
   },
   "source": [
    "--------------\n",
    "\n",
    "## Exercícios\n",
    "\n",
    "### Aritmética\n",
    "\n",
    "**1.** Crie uma variável *resultado* que receba o valor da operação $3\\times(4 + 7)$ e imprima seu resultado."
   ]
  },
  {
   "cell_type": "markdown",
   "metadata": {
    "colab_type": "text",
    "id": "COlnR736jg1-"
   },
   "source": [
    "**2.** Utilizando a biblioteca `math` realize a operação $\\sqrt{4}$ e imprima seu resultado.\n",
    "\n",
    "> **Nota:** Pesquise na *web* informações sobre qual a respectiva função da biblioteca `math` que calcula a raiz quadrada de um número."
   ]
  },
  {
   "cell_type": "markdown",
   "metadata": {
    "colab_type": "text",
    "id": "w6CXRfGcjg2E"
   },
   "source": [
    "## Strings\n",
    "\n",
    "**1.** Imprima seu nome."
   ]
  },
  {
   "cell_type": "markdown",
   "metadata": {
    "colab_type": "text",
    "id": "LSJG7a4jjg2H"
   },
   "source": [
    "**2.** O código abaixo retorna um erro de execução, você consegue identificar qual é este erro pela mensagem de retorno? Identificado o erro, reescreva o código de maneira que ele seja executado sem erro, imprimindo a *string* desejada."
   ]
  },
  {
   "cell_type": "code",
   "execution_count": null,
   "metadata": {
    "colab": {},
    "colab_type": "code",
    "id": "uEOdK_Fgjg2H",
    "scrolled": true
   },
   "outputs": [],
   "source": [
    "print(Este texto deveria ser impresso na tela)"
   ]
  },
  {
   "cell_type": "markdown",
   "metadata": {
    "colab_type": "text",
    "id": "Gc05jJC4jg2J"
   },
   "source": [
    "**3.** Realize um cálculo qualquer e imprima seu resultado na tela utilizando a função `format()` seguindo o padrão: `'A operação _______ resulta o valor ______.'`"
   ]
  },
  {
   "cell_type": "markdown",
   "metadata": {
    "colab_type": "text",
    "id": "ZxIr8748jg2M"
   },
   "source": [
    "## Listas\n",
    "\n",
    "**1.** Incluir os valores `'Abril'`, `'Junho'` e `'Outubro'` na lista `meses` abaixo respeitando a ordenação dos meses."
   ]
  },
  {
   "cell_type": "code",
   "execution_count": null,
   "metadata": {
    "colab": {},
    "colab_type": "code",
    "id": "NL29U8_5jg2O"
   },
   "outputs": [],
   "source": [
    "meses = ['Janeiro', 'Fevereiro', 'Março', 'Maio', 'Julho', 'Agosto', 'Setembro', 'Novembro', 'Dezembro']"
   ]
  },
  {
   "cell_type": "markdown",
   "metadata": {
    "colab_type": "text",
    "id": "AORCiWKajg2U"
   },
   "source": [
    "**2.** A lista `estados` abaixo, a qual uma lista que deveria conter apenas as siglas de estados brasileiros, contém valores inconsistentes com o seu propósito. Remova estes valores e ordene a lista final.\n",
    "\n",
    "> **Nota:** Existe um erro de digitação em um dos estados da lista. Corrija o mesmo."
   ]
  },
  {
   "cell_type": "code",
   "execution_count": null,
   "metadata": {
    "colab": {},
    "colab_type": "code",
    "id": "RWYwtNNrjg2V"
   },
   "outputs": [],
   "source": [
    "estados = ['RJ', 'DF', 'PS', 44, 'PA', 9.33, 'AC', 'José', 12, 'ES']"
   ]
  },
  {
   "cell_type": "markdown",
   "metadata": {
    "colab_type": "text",
    "id": "YYnnfZAkjg2i"
   },
   "source": [
    "## Tuplas\n",
    "\n",
    "**1.** Imprima todos os valores da tupla abaixo de maneira sequencial."
   ]
  },
  {
   "cell_type": "code",
   "execution_count": null,
   "metadata": {
    "colab": {},
    "colab_type": "code",
    "id": "1xnfMirajg2j"
   },
   "outputs": [],
   "source": [
    "tupla = (6, 77, 42, 10)"
   ]
  },
  {
   "cell_type": "markdown",
   "metadata": {
    "colab_type": "text",
    "id": "kg9sI4KDjg2n"
   },
   "source": [
    "**2.** Tente descobrir o motivo do erro abaixo."
   ]
  },
  {
   "cell_type": "code",
   "execution_count": null,
   "metadata": {
    "colab": {},
    "colab_type": "code",
    "id": "S4h8PL0Ajg2p",
    "scrolled": false
   },
   "outputs": [],
   "source": [
    "tupla = (6, 77, 42, 10)\n",
    "\n",
    "tupla[2] = 99"
   ]
  },
  {
   "cell_type": "markdown",
   "metadata": {
    "colab_type": "text",
    "id": "mCki2XD5jg2s"
   },
   "source": [
    "## Dicionários\n",
    "\n",
    "**1.** Crie um dicionário que guarde as seguintes informações:\n",
    "\n",
    " 1. Um time de futebol identificado pela chave `time`.\n",
    " 2. Um texto qualquer identificado pela chave `texto`.\n"
   ]
  },
  {
   "cell_type": "markdown",
   "metadata": {
    "colab_type": "text",
    "id": "VJe3T8k3jg21"
   },
   "source": [
    "__2.__ Imprima os valores de seu dicionário criado no exercício **1** seguindo o padrão `'O time que escolhi foi o _________ e meu texto é ___________.'`"
   ]
  },
  {
   "cell_type": "markdown",
   "metadata": {
    "colab_type": "text",
    "id": "XnvaeMMwjg26"
   },
   "source": [
    "## Condicionais\n",
    "\n",
    "**1.** Faça uma condição que compara a variável `numero` e imprime `Número maior ou igual a 30` caso o número seja maior ou igual a 30 e `Número menor que 30` caso o número seja menor que 30."
   ]
  },
  {
   "cell_type": "markdown",
   "metadata": {
    "colab_type": "text",
    "id": "Om4qnifxjg29"
   },
   "source": [
    "**2.** Tente identificar o erro no bloco de código abaixo."
   ]
  },
  {
   "cell_type": "code",
   "execution_count": null,
   "metadata": {
    "colab": {},
    "colab_type": "code",
    "id": "XQwc3atXjg29",
    "scrolled": true
   },
   "outputs": [],
   "source": [
    "nome = 'Joaquim'\n",
    "\n",
    "if nome == 'Joaquim'\n",
    "    print('O nome é Joaquim.')\n",
    "else:\n",
    "    print('Outro nome.')"
   ]
  },
  {
   "cell_type": "markdown",
   "metadata": {
    "colab_type": "text",
    "id": "qsVLNKw2jg3B"
   },
   "source": [
    "## Loops\n",
    "\n",
    "**1.** Percorra a lista abaixo utilizando um `for` *loop* e imprima o valor de cada índice."
   ]
  },
  {
   "cell_type": "code",
   "execution_count": null,
   "metadata": {},
   "outputs": [],
   "source": [
    "filmes = ['Filme 1', 'Filme 2', 'Filme 3', 'Filme 4']"
   ]
  },
  {
   "cell_type": "markdown",
   "metadata": {
    "colab_type": "text",
    "id": "n3_bWKoLjg3F"
   },
   "source": [
    "**2.** Utilizando um `while` *loop* execute um loop até que a variável `contador` possua valor menor que 25. Para cada iteração some 1 ao `contador` e 25 a variável `soma`."
   ]
  },
  {
   "cell_type": "markdown",
   "metadata": {
    "colab_type": "text",
    "id": "JliIyM8_jg3H"
   },
   "source": [
    "## Funções\n",
    "\n",
    "**1.** Crie uma função que receba como parâmetro a lista `valores` abaixo e retorne a soma de todos os valores da lista."
   ]
  },
  {
   "cell_type": "code",
   "execution_count": null,
   "metadata": {},
   "outputs": [],
   "source": [
    "valores = [55, 92, 427, 86, 10, 64, 89, 177]"
   ]
  },
  {
   "cell_type": "markdown",
   "metadata": {
    "colab_type": "text",
    "id": "nqvI5gStjg3K"
   },
   "source": [
    "**2.** Crie uma função que receba como parâmetro a mesma lista de valores mas que retorna apenas a soma dos números ímpares da lista."
   ]
  },
  {
   "cell_type": "markdown",
   "metadata": {
    "colab_type": "text",
    "id": "BFTPVR9qjg3M"
   },
   "source": [
    "**3.** Crie uma função que receba como parâmetro a *string* **'BaCeDiFoGu'**, substitua as vogais pela letra **'q'** e retorne o resultado obtido."
   ]
  }
 ],
 "metadata": {
  "colab": {
   "name": "introducao_a_algoritmos.ipynb",
   "provenance": []
  },
  "kernelspec": {
   "display_name": "Python 3 (ipykernel)",
   "language": "python",
   "name": "python3"
  },
  "language_info": {
   "codemirror_mode": {
    "name": "ipython",
    "version": 3
   },
   "file_extension": ".py",
   "mimetype": "text/x-python",
   "name": "python",
   "nbconvert_exporter": "python",
   "pygments_lexer": "ipython3",
   "version": "3.8.12"
  }
 },
 "nbformat": 4,
 "nbformat_minor": 1
}
