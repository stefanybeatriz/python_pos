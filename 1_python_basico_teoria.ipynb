{
 "cells": [
  {
   "attachments": {},
   "cell_type": "markdown",
   "metadata": {},
   "source": [
    "### <font color='#005b96'>**Data Science Aplicada à Área de Saúde**</font><br>\n",
    "><font color='#438496'>***DS *** **| Introdução a Programação em python</font>\n",
    "<br>\n",
    "><font color='#438496'>professor *Mateus Carbone Ananias*</font>"
   ]
  },
  {
   "attachments": {},
   "cell_type": "markdown",
   "metadata": {},
   "source": [
    "---"
   ]
  },
  {
   "attachments": {},
   "cell_type": "markdown",
   "metadata": {},
   "source": [
    "### <font color='#005b96'>Table of Contents</font>\n",
    "\n",
    "- [Operações Básicas](#ob)\n",
    "- [Tipos de Objetos mais Comuns](#oc)\n",
    "- [Exercício 1](#e1)\n",
    "- [Expressões Lógicas](#el)\n",
    "- [Operadores Lógicos](#ol)\n",
    "- [Exercício 2](#e2)\n",
    "- [Expressões Condicionais](#ec)\n",
    "- [Exercício 3](#e3)\n",
    "- [Loops e Laços](#ll)\n",
    "- [Exercício 4](#e4)\n",
    "- [Operações com Strings](#os)\n",
    "- [Operações com Listas](#ape)\n",
    "- [Exercício 5](#e5)\n",
    "- [Funções](#func)\n",
    "- [Exercício 6](#e6)\n",
    "- [List Comprehension](#lc)\n",
    "- [Enumerate](#en)\n",
    "- [Função Map](#fm)\n",
    "- [Funções Lambda](#fl)\n",
    "- [Desafio](#ds)\n"
   ]
  },
  {
   "attachments": {},
   "cell_type": "markdown",
   "metadata": {},
   "source": [
    "---\n",
    "## <font color='#005b96'>**Introdução** </font></a>"
   ]
  },
  {
   "attachments": {},
   "cell_type": "markdown",
   "metadata": {},
   "source": [
    "Python é uma linguagem de programação de alto nível, interpretada, orientada a objetos e de propósito geral. Ela foi criada por Guido van Rossum e lançada pela primeira vez em 1991. Desde então, tornou-se uma das linguagens de programação mais populares e amplamente usadas em uma variedade de domínios, incluindo desenvolvimento web, análise de dados, inteligência artificial, automação, ciência de dados, entre outros.\n",
    "\n",
    "A principal função do Python é fornecer uma sintaxe limpa e legível que facilite o desenvolvimento rápido de programas. Algumas características-chave que tornam o Python popular incluem:\n",
    "\n",
    "1. **Sintaxe clara e legível**: Python é conhecido por sua sintaxe simples e legível, o que o torna fácil de aprender e entender. Isso permite que os desenvolvedores se concentrem mais na resolução de problemas do que na complexidade da linguagem.\n",
    "\n",
    "2. **Ampla biblioteca padrão**: Python possui uma biblioteca padrão abrangente que oferece módulos e funções para uma ampla gama de tarefas, desde manipulação de arquivos até desenvolvimento web. Isso significa que muitas funcionalidades comuns já estão disponíveis, economizando tempo e esforço para os desenvolvedores.\n",
    "\n",
    "3. **Portabilidade**: Python é uma linguagem portátil, o que significa que os programas escritos em Python podem ser executados em várias plataformas sem a necessidade de modificação. Isso inclui sistemas operacionais como Windows, macOS e Linux.\n",
    "\n",
    "4. **Facilidade de integração**: Python pode ser facilmente integrado com outras linguagens de programação, como C/C++, Java e .NET, o que o torna uma escolha popular para projetos que requerem a combinação de diferentes tecnologias.\n",
    "\n",
    "5. **Comunidade ativa**: Python tem uma comunidade de desenvolvedores muito ativa e vibrante. Existem milhares de bibliotecas de terceiros disponíveis, criadas e mantidas pela comunidade, o que facilita a resolução de problemas específicos comuns.\n",
    "\n",
    "A principal função do Python é permitir que os desenvolvedores escrevam código de forma eficiente para uma ampla variedade de aplicativos, desde pequenos scripts até aplicativos complexos e sistemas de grande escala. Sua versatilidade e simplicidade tornam-no uma escolha popular tanto para iniciantes quanto para profissionais experientes na área de desenvolvimento de software."
   ]
  },
  {
   "attachments": {},
   "cell_type": "markdown",
   "metadata": {},
   "source": [
    "Uma linguagem orientada a objetos é um paradigma de programação que organiza o código em torno de \"objetos\", que podem conter dados, na forma de campos, também chamados de atributos, e código, na forma de procedimentos, também chamados de métodos. Os objetos são instâncias de classes, que funcionam como modelos que definem a estrutura e o comportamento dos objetos.\n",
    "\n",
    "No contexto do Python, ele é considerado uma linguagem de programação orientada a objetos porque oferece suporte total a esse paradigma. Aqui estão alguns conceitos-chave de orientação a objetos em Python:\n",
    "\n",
    "1. **Classes e Objetos**: Em Python, uma classe é um tipo de dado definido pelo programador. Ela é uma espécie de molde que define a estrutura e o comportamento dos objetos que serão criados a partir dela. Os objetos são instâncias de classes, o que significa que são criados com base nas definições da classe.\n",
    "\n",
    "2. **Atributos e Métodos**: Os atributos são variáveis associadas a um objeto que armazenam dados. Os métodos são funções definidas dentro da classe que podem acessar e modificar esses atributos, além de realizar outras operações relacionadas ao objeto."
   ]
  },
  {
   "attachments": {},
   "cell_type": "markdown",
   "metadata": {},
   "source": [
    "---"
   ]
  },
  {
   "attachments": {},
   "cell_type": "markdown",
   "metadata": {},
   "source": [
    "# <a id = \"dados\"><font color='#005b96'>**Primeiro Programa**</font></a>"
   ]
  },
  {
   "cell_type": "code",
   "execution_count": null,
   "metadata": {},
   "outputs": [],
   "source": [
    "print(\"Hello, World!!!\")"
   ]
  },
  {
   "attachments": {},
   "cell_type": "markdown",
   "metadata": {},
   "source": [
    "# <a id = \"ob\"><font color='#005b96'>**Operações Básicas**</font></a>"
   ]
  },
  {
   "cell_type": "code",
   "execution_count": null,
   "metadata": {},
   "outputs": [],
   "source": [
    "# operadores matemáticos\n",
    "print(4+4)\n",
    "print(4-4)\n",
    "print(4*4)\n",
    "print(4**4)\n",
    "print(4/4)\n",
    "print(301%2)"
   ]
  },
  {
   "attachments": {},
   "cell_type": "markdown",
   "metadata": {},
   "source": [
    "---"
   ]
  },
  {
   "attachments": {},
   "cell_type": "markdown",
   "metadata": {},
   "source": [
    "# <a id = \"XX\"><font color='#005b96'>**Operador de Atribuição**</font></a>\n",
    "\n",
    "O operador `=` é um operador de atribuição, x=1 significa: \"x recebe o valor 1\""
   ]
  },
  {
   "cell_type": "code",
   "execution_count": null,
   "metadata": {},
   "outputs": [],
   "source": [
    "meu_texto  = \"Hello World!!!\"\n",
    "print(meu_texto)"
   ]
  },
  {
   "attachments": {},
   "cell_type": "markdown",
   "metadata": {},
   "source": [
    "---"
   ]
  },
  {
   "attachments": {},
   "cell_type": "markdown",
   "metadata": {},
   "source": [
    "# <a id = \"oc\"><font color='#005b96'>**Tipos de Objetos mais Comuns**</font></a>"
   ]
  },
  {
   "attachments": {},
   "cell_type": "markdown",
   "metadata": {},
   "source": [
    "1. **Números**: Python possui tipos de objetos para representar números inteiros, números de ponto flutuante e números complexos. Exemplos incluem `int`, `float` e `complex`.tuações de programação."
   ]
  },
  {
   "cell_type": "code",
   "execution_count": null,
   "metadata": {},
   "outputs": [],
   "source": [
    "meu_inteiro = 35\n",
    "type(meu_inteiro)"
   ]
  },
  {
   "cell_type": "code",
   "execution_count": null,
   "metadata": {},
   "outputs": [],
   "source": [
    "meu_float = 35/8\n",
    "type(meu_float)"
   ]
  },
  {
   "attachments": {},
   "cell_type": "markdown",
   "metadata": {},
   "source": [
    "2. **Strings**: Strings são usadas para representar texto. Em Python, as strings são objetos imutáveis, o que significa que não podem ser alteradas após a criação. Exemplos incluem `'hello'`, `\"world\"`, etc."
   ]
  },
  {
   "cell_type": "code",
   "execution_count": null,
   "metadata": {},
   "outputs": [],
   "source": [
    "type(meu_texto)"
   ]
  },
  {
   "attachments": {},
   "cell_type": "markdown",
   "metadata": {},
   "source": [
    "3. **Booleanos**: Os booleanos representam os valores True e False e são usados para avaliar expressões lógicas. Exemplos incluem `True` e `False`."
   ]
  },
  {
   "cell_type": "code",
   "execution_count": null,
   "metadata": {},
   "outputs": [],
   "source": [
    "meu_booleano = True\n",
    "type(meu_booleano)"
   ]
  },
  {
   "attachments": {},
   "cell_type": "markdown",
   "metadata": {},
   "source": [
    "4. **Listas**: Listas são usadas para armazenar uma coleção ordenada de elementos. Elas são mutáveis, o que significa que podem ser alteradas após a criação. Exemplos incluem `[1, 2, 3]`, `['a', 'b', 'c']`, etc."
   ]
  },
  {
   "cell_type": "code",
   "execution_count": null,
   "metadata": {},
   "outputs": [],
   "source": [
    "minha_lista = [1,2,3,4,\"z\"]\n",
    "type(minha_lista)"
   ]
  },
  {
   "attachments": {},
   "cell_type": "markdown",
   "metadata": {},
   "source": [
    "5. **Tuplas**: Tuplas são semelhantes às listas, mas são imutáveis, o que significa que não podem ser alteradas após a criação. Elas são definidas usando parênteses. Exemplos incluem `(1, 2, 3)`, `('a', 'b', 'c')`, etc."
   ]
  },
  {
   "cell_type": "code",
   "execution_count": null,
   "metadata": {},
   "outputs": [],
   "source": [
    "minha_tupla = (1,2,3,4,\"z\")\n",
    "type(minha_tupla)"
   ]
  },
  {
   "attachments": {},
   "cell_type": "markdown",
   "metadata": {},
   "source": [
    "6. **Dicionários**: Dicionários são usados para armazenar pares chave-valor, onde cada valor é acessado por meio de sua chave correspondente. Eles são definidos usando chaves `{}`. Exemplos incluem `{'a': 1, 'b': 2, 'c': 3}`, etc."
   ]
  },
  {
   "cell_type": "code",
   "execution_count": null,
   "metadata": {},
   "outputs": [],
   "source": [
    "meu_dict = {\"minha\": \"casa\", \"meu\":\"jovem\"}\n",
    "type(meu_dict)"
   ]
  },
  {
   "attachments": {},
   "cell_type": "markdown",
   "metadata": {},
   "source": [
    "7. **None**: None é um tipo de objeto especial que representa a ausência de valor. É comumente usado para indicar que uma variável não tem um valor atribuído. Em muitos casos, é usado como um valor de retorno para funções que não retornam nenhum valor útil."
   ]
  },
  {
   "cell_type": "code",
   "execution_count": null,
   "metadata": {},
   "outputs": [],
   "source": [
    "meu_none = None\n",
    "type(None)"
   ]
  },
  {
   "attachments": {},
   "cell_type": "markdown",
   "metadata": {},
   "source": [
    "---"
   ]
  },
  {
   "attachments": {},
   "cell_type": "markdown",
   "metadata": {},
   "source": [
    "# <a id = \"e1\"><font color='#005b96'>Exercício 1</font></a>"
   ]
  },
  {
   "attachments": {},
   "cell_type": "markdown",
   "metadata": {},
   "source": [
    "Faça uma lista com um número, uma string, um booleano"
   ]
  },
  {
   "cell_type": "code",
   "execution_count": null,
   "metadata": {},
   "outputs": [],
   "source": [
    "#escreva seu código aqui"
   ]
  },
  {
   "attachments": {},
   "cell_type": "markdown",
   "metadata": {},
   "source": [
    "---"
   ]
  },
  {
   "attachments": {},
   "cell_type": "markdown",
   "metadata": {},
   "source": [
    "# <a id = \"el\"><font color='#005b96'>**Expressões Lógicas**</font></a>"
   ]
  },
  {
   "cell_type": "code",
   "execution_count": null,
   "metadata": {},
   "outputs": [],
   "source": [
    "print(1 == 1) # Igualdade"
   ]
  },
  {
   "cell_type": "code",
   "execution_count": null,
   "metadata": {},
   "outputs": [],
   "source": [
    "print(1 != 1) # Diferente"
   ]
  },
  {
   "cell_type": "code",
   "execution_count": null,
   "metadata": {},
   "outputs": [],
   "source": [
    "print(1 > 1) # maior"
   ]
  },
  {
   "cell_type": "code",
   "execution_count": null,
   "metadata": {},
   "outputs": [],
   "source": [
    "print(1 < 1) #menor"
   ]
  },
  {
   "cell_type": "code",
   "execution_count": null,
   "metadata": {},
   "outputs": [],
   "source": [
    "print(1 <= 1) # menor ou igual"
   ]
  },
  {
   "cell_type": "code",
   "execution_count": null,
   "metadata": {},
   "outputs": [],
   "source": [
    "print(1 >= 1) # maior ou igual"
   ]
  },
  {
   "attachments": {},
   "cell_type": "markdown",
   "metadata": {},
   "source": [
    "---"
   ]
  },
  {
   "attachments": {},
   "cell_type": "markdown",
   "metadata": {},
   "source": [
    "# <a id = \"ol\"><font color='#005b96'>**Operadores Lógicos**</font></a>"
   ]
  },
  {
   "attachments": {},
   "cell_type": "markdown",
   "metadata": {},
   "source": [
    "1. **and**: O operador `and` retorna True se ambas as expressões lógicas à esquerda e à direita forem True, caso contrário, retorna False. Ele executa uma operação de conjunção. Por exemplo:\n"
   ]
  },
  {
   "cell_type": "code",
   "execution_count": null,
   "metadata": {},
   "outputs": [],
   "source": [
    "# operadores ralacionais AND, OR e NOT\n",
    "\n",
    "print(1 == 1 and 2 ==2)\n",
    "print(1 == 1 and 2 != 2)"
   ]
  },
  {
   "attachments": {},
   "cell_type": "markdown",
   "metadata": {},
   "source": [
    "2. **or**: O operador `or` retorna True se pelo menos uma das expressões lógicas à esquerda ou à direita for True, caso contrário, retorna False. Ele executa uma operação de disjunção. Por exemplo:\n"
   ]
  },
  {
   "cell_type": "code",
   "execution_count": null,
   "metadata": {},
   "outputs": [],
   "source": [
    "print(1 == 1 or 2 == 2)\n",
    "print(1 == 1 or 2 != 2)"
   ]
  },
  {
   "attachments": {},
   "cell_type": "markdown",
   "metadata": {},
   "source": [
    "3. **not**: O operador `not` é um operador unário que inverte o valor de uma expressão lógica. Se a expressão for True, `not` retorna False e vice-versa. Por exemplo:"
   ]
  },
  {
   "cell_type": "code",
   "execution_count": null,
   "metadata": {},
   "outputs": [],
   "source": [
    "print(not 1 == 1)"
   ]
  },
  {
   "attachments": {},
   "cell_type": "markdown",
   "metadata": {},
   "source": [
    "---"
   ]
  },
  {
   "attachments": {},
   "cell_type": "markdown",
   "metadata": {},
   "source": [
    "# <a id = \"e2\"><font color='#005b96'>Exercício 2</font></a>\n",
    "\n",
    "Faça uma comparação utilizando operadores e expressões lógicos"
   ]
  },
  {
   "cell_type": "code",
   "execution_count": null,
   "metadata": {},
   "outputs": [],
   "source": [
    "#escreva seu código aqui"
   ]
  },
  {
   "attachments": {},
   "cell_type": "markdown",
   "metadata": {},
   "source": [
    "---"
   ]
  },
  {
   "attachments": {},
   "cell_type": "markdown",
   "metadata": {},
   "source": [
    "# <a id = \"ec\"><font color='#005b96'>**Expressões Condicionais**</font></a>"
   ]
  },
  {
   "attachments": {},
   "cell_type": "markdown",
   "metadata": {},
   "source": [
    "Em Python, as expressões condicionais são usadas para tomar decisões com base em condições lógicas. A estrutura básica de uma expressão condicional em Python é o uso da palavra-chave `if`, seguida por uma condição, e opcionalmente seguida por uma ou mais cláusulas `elif` (abreviação de \"else if\") e uma cláusula `else`.\n",
    "\n",
    "\n",
    "O que significa cada expressão:\n",
    "\n",
    "1. **if**: A palavra-chave `if` inicia a expressão condicional. Ela é seguida por uma condição que deve ser avaliada como verdadeira ou falsa. Se a condição for verdadeira, o bloco de código indentado sob o `if` é executado. Se a condição for falsa, o interpretador passará para a próxima cláusula `elif` ou `else`, se houver.\n",
    "\n",
    "2. **elif**: A palavra-chave `elif` é usada para verificar condições adicionais se a condição no `if` for falsa. Pode haver zero ou mais cláusulas `elif`. Cada `elif` é seguido por uma condição. Se a condição do `elif` for verdadeira, o bloco de código indentado sob ele é executado e o resto da expressão condicional é ignorado. Se a condição do `elif` for falsa, o interpretador passará para a próxima cláusula `elif` ou `else`, se houver.\n",
    "\n",
    "3. **else**: A palavra-chave `else` é opcional e é usada para executar um bloco de código se nenhuma das condições anteriores for verdadeira. Ela não possui uma condição associada. Se todas as condições anteriores forem falsas, o bloco de código indentado sob o `else` é executado.\n",
    "\n",
    "Estrutura básica:\n",
    "\n",
    "```python\n",
    "if condição_1:\n",
    "    # Bloco de código a ser executado se a condição_1 for True\n",
    "elif condição_2:\n",
    "    # Bloco de código a ser executado se a condição_1 for False e a condição_2 for True\n",
    "elif condição_3:\n",
    "    # Bloco de código a ser executado se a condição_1 e a condição_2 forem False e a condição_3 for True\n",
    "...\n",
    "else:\n",
    "    # Bloco de código a ser executado se nenhuma das condições anteriores for True\n",
    "```\n",
    "\n",
    "\n",
    "É importante notar que o Python usa a indentação para definir a estrutura do código. O bloco de código associado a cada `if`, `elif` e `else` deve ser indentado consistentemente com espaços ou tabulações."
   ]
  },
  {
   "cell_type": "code",
   "execution_count": null,
   "metadata": {},
   "outputs": [],
   "source": [
    "x = 10\n",
    "\n",
    "if x>5:\n",
    "    print(\"x é maior do que 10\")\n",
    "    "
   ]
  },
  {
   "cell_type": "code",
   "execution_count": null,
   "metadata": {},
   "outputs": [],
   "source": [
    "x = 3\n",
    "\n",
    "if x>5:\n",
    "    print(\"x é maior do que 10\")\n",
    "else:\n",
    "    print(\"x é menor do que 5\")"
   ]
  },
  {
   "cell_type": "code",
   "execution_count": null,
   "metadata": {},
   "outputs": [],
   "source": [
    "x = 5\n",
    "\n",
    "if x>5:\n",
    "    print(\"x é maior que 10\")\n",
    "elif x == 5:\n",
    "    print(\"x é igual que 5\")\n",
    "else:\n",
    "    print(\"x é menor que 5\")"
   ]
  },
  {
   "attachments": {},
   "cell_type": "markdown",
   "metadata": {},
   "source": [
    "# <a id = \"e3\"><font color='#005b96'>Exercício 3</font></a>"
   ]
  },
  {
   "attachments": {},
   "cell_type": "markdown",
   "metadata": {},
   "source": [
    "Faça uma expressão condicional em que recebendo uma variável em formato de texto, retorne o seu string \"é uma banana\", caso não seja a fruta desejada retorna \"não é uma banana\""
   ]
  },
  {
   "cell_type": "code",
   "execution_count": null,
   "metadata": {},
   "outputs": [],
   "source": [
    "fruta = 'banana'\n",
    "#escreve seu cófigo aqui"
   ]
  },
  {
   "attachments": {},
   "cell_type": "markdown",
   "metadata": {},
   "source": [
    "---"
   ]
  },
  {
   "attachments": {},
   "cell_type": "markdown",
   "metadata": {},
   "source": [
    "# <a id = \"ll\"><font color='#005b96'>**Loops e Laços**</font></a>"
   ]
  },
  {
   "attachments": {},
   "cell_type": "markdown",
   "metadata": {},
   "source": [
    "Em Python, loops são estruturas de controle de fluxo que permitem que um conjunto de instruções seja executado repetidamente enquanto uma condição específica é verdadeira ou até que um determinado número de vezes seja atingido. Existem dois tipos principais de loops em Python: o loop `for` e o loop `while`.\n",
    "\n",
    "### Loop `for`:\n",
    "\n",
    "O loop `for` é usado para iterar sobre uma sequência (como uma lista, tupla, conjunto, dicionário ou string) ou sobre qualquer objeto iterável. A estrutura básica de um loop `for` em Python é:\n",
    "\n",
    "```python\n",
    "for elemento in sequência:\n",
    "    # Bloco de código a ser repetido para cada elemento da sequência\n",
    "```\n",
    "\n",
    "Neste loop, `elemento` é uma variável que assume o valor de cada item na sequência a cada iteração do loop. O bloco de código indentado abaixo do `for` é executado para cada elemento na sequência.\n",
    "\n"
   ]
  },
  {
   "cell_type": "code",
   "execution_count": null,
   "metadata": {},
   "outputs": [],
   "source": [
    "frutas = [\"maçã\", \"banana\", \"laranja\"]\n",
    "for fruta in frutas:\n",
    "    print(fruta)"
   ]
  },
  {
   "cell_type": "code",
   "execution_count": null,
   "metadata": {},
   "outputs": [],
   "source": [
    "# comando for\n",
    "for i in  range(1,10):\n",
    "    print(i)\n",
    "    "
   ]
  },
  {
   "attachments": {},
   "cell_type": "markdown",
   "metadata": {},
   "source": [
    "### Loop `while`:\n",
    "\n",
    "O loop `while` é usado para executar um bloco de código repetidamente enquanto uma condição específica for verdadeira. A estrutura básica de um loop `while` em Python é:\n",
    "\n",
    "```python\n",
    "while condição:\n",
    "    # Bloco de código a ser repetido enquanto a condição for verdadeira\n",
    "```\n",
    "'\n",
    "Neste loop, o bloco de código indentado abaixo do `while` é repetido enquanto a `condição` especificada for verdadeira. Se a condição for falsa inicialmente, o bloco de código nunca será executado.\n",
    "\n"
   ]
  },
  {
   "cell_type": "code",
   "execution_count": null,
   "metadata": {},
   "outputs": [],
   "source": [
    "contador = 0\n",
    "while contador < 5:\n",
    "    print(contador)\n",
    "    contador += 1\n"
   ]
  },
  {
   "attachments": {},
   "cell_type": "markdown",
   "metadata": {},
   "source": [
    "---"
   ]
  },
  {
   "attachments": {},
   "cell_type": "markdown",
   "metadata": {},
   "source": [
    "# <a id = \"e4\"><font color='#005b96'>Exercício 4</font></a>"
   ]
  },
  {
   "attachments": {},
   "cell_type": "markdown",
   "metadata": {},
   "source": [
    "Utilizando expressões condicionais faça um loop utilizando `forloop` que recebe uma lista de compras e identifica se comtem uma \"banana\" ou não"
   ]
  },
  {
   "cell_type": "code",
   "execution_count": null,
   "metadata": {},
   "outputs": [],
   "source": [
    "minha_lista = [\"arroz\", \"banana\", \"cerveja\"]\n",
    "\n",
    "#esceve o código a baixo"
   ]
  },
  {
   "attachments": {},
   "cell_type": "markdown",
   "metadata": {},
   "source": [
    "---"
   ]
  },
  {
   "attachments": {},
   "cell_type": "markdown",
   "metadata": {},
   "source": [
    "# <a id = \"os\"><font color='#005b96'>**Operações com Strings**</font></a>"
   ]
  },
  {
   "attachments": {},
   "cell_type": "markdown",
   "metadata": {},
   "source": [
    "## slicing\n",
    "\n",
    "Repartição de string"
   ]
  },
  {
   "cell_type": "code",
   "execution_count": null,
   "metadata": {},
   "outputs": [],
   "source": [
    "texto = \"mateus\"\n",
    "\n",
    "print(texto[1])\n",
    "print(texto[0])\n",
    "print(texto[:2])\n",
    "print(texto[2:])"
   ]
  },
  {
   "attachments": {},
   "cell_type": "markdown",
   "metadata": {},
   "source": [
    "### Concatenação"
   ]
  },
  {
   "cell_type": "code",
   "execution_count": null,
   "metadata": {},
   "outputs": [],
   "source": [
    "texto2 = \"carbone\"\n",
    "\n",
    "concatenacao = texto + texto2\n",
    "\n",
    "print(concatenacao)\n",
    "print(concatenacao.lower())\n",
    "print(concatenacao.upper())\n"
   ]
  },
  {
   "cell_type": "code",
   "execution_count": null,
   "metadata": {},
   "outputs": [],
   "source": [
    "concatenacao = texto +\" \"+ texto2\n",
    "print(concatenacao)"
   ]
  },
  {
   "attachments": {},
   "cell_type": "markdown",
   "metadata": {},
   "source": [
    "### Separação"
   ]
  },
  {
   "cell_type": "code",
   "execution_count": null,
   "metadata": {},
   "outputs": [],
   "source": [
    "concatenacao.split()\n"
   ]
  },
  {
   "attachments": {},
   "cell_type": "markdown",
   "metadata": {},
   "source": [
    "### Substituição"
   ]
  },
  {
   "cell_type": "code",
   "execution_count": null,
   "metadata": {},
   "outputs": [],
   "source": [
    "concatenacao.replace(\"a\", \"z\")"
   ]
  },
  {
   "attachments": {},
   "cell_type": "markdown",
   "metadata": {},
   "source": [
    "# <a id = \"ope\"><font color='#005b96'>**Operações com Listas**</font></a>"
   ]
  },
  {
   "attachments": {},
   "cell_type": "markdown",
   "metadata": {},
   "source": [
    "Segue alguns exemplos de operações com listas em Python:\n"
   ]
  },
  {
   "attachments": {},
   "cell_type": "markdown",
   "metadata": {},
   "source": [
    "### 1. Criação de Lista"
   ]
  },
  {
   "cell_type": "code",
   "execution_count": null,
   "metadata": {},
   "outputs": [],
   "source": [
    "lista = [1, 2, 3, 4, 5]"
   ]
  },
  {
   "attachments": {},
   "cell_type": "markdown",
   "metadata": {},
   "source": [
    "### 2. Tamanho da Lista"
   ]
  },
  {
   "cell_type": "code",
   "execution_count": null,
   "metadata": {},
   "outputs": [],
   "source": [
    "tamanho = len(lista)  # Retorna o número de elementos na lista\n",
    "tamanho"
   ]
  },
  {
   "attachments": {},
   "cell_type": "markdown",
   "metadata": {},
   "source": [
    "### 3. Adição de Elementos\n"
   ]
  },
  {
   "cell_type": "code",
   "execution_count": null,
   "metadata": {},
   "outputs": [],
   "source": [
    "lista.append(6)  # Adiciona o elemento 6 ao final da lista\n",
    "lista"
   ]
  },
  {
   "attachments": {},
   "cell_type": "markdown",
   "metadata": {},
   "source": [
    "### 4. Remoção de Elementos"
   ]
  },
  {
   "cell_type": "code",
   "execution_count": null,
   "metadata": {},
   "outputs": [],
   "source": [
    "lista.remove(3)  # Remove o elemento 3 da lista\n",
    "lista"
   ]
  },
  {
   "attachments": {},
   "cell_type": "markdown",
   "metadata": {},
   "source": [
    "### 5. Acesso a Elementos"
   ]
  },
  {
   "cell_type": "code",
   "execution_count": null,
   "metadata": {},
   "outputs": [],
   "source": [
    "elemento = lista[0]  # Acessa o primeiro elemento da lista (índice 0)\n",
    "elemento"
   ]
  },
  {
   "cell_type": "code",
   "execution_count": null,
   "metadata": {},
   "outputs": [],
   "source": [
    "sep = lista[0:3]\n",
    "sep"
   ]
  },
  {
   "attachments": {},
   "cell_type": "markdown",
   "metadata": {},
   "source": [
    "### 6. Modificação de Elementos"
   ]
  },
  {
   "cell_type": "code",
   "execution_count": null,
   "metadata": {},
   "outputs": [],
   "source": [
    "lista[1] = 10  # Modifica o segundo elemento da lista para o valor 10\n",
    "lista"
   ]
  },
  {
   "attachments": {},
   "cell_type": "markdown",
   "metadata": {},
   "source": [
    "### 7. Concatenação de Listas"
   ]
  },
  {
   "cell_type": "code",
   "execution_count": null,
   "metadata": {},
   "outputs": [],
   "source": [
    "outra_lista = [7, 9, 8]\n",
    "nova_lista = lista + outra_lista  # Concatena as duas listas\n",
    "nova_lista"
   ]
  },
  {
   "attachments": {},
   "cell_type": "markdown",
   "metadata": {},
   "source": [
    "### 8. Soma dos Elementos da Lista"
   ]
  },
  {
   "cell_type": "code",
   "execution_count": null,
   "metadata": {},
   "outputs": [],
   "source": [
    "soma = sum(nova_lista)  # Soma todos os elementos da lista\n",
    "soma"
   ]
  },
  {
   "cell_type": "markdown",
   "metadata": {},
   "source": [
    "### 9. Mínimo e Máximo"
   ]
  },
  {
   "cell_type": "code",
   "execution_count": null,
   "metadata": {},
   "outputs": [],
   "source": [
    "minimo = min(nova_lista)  # Encontra o menor elemento da lista\n",
    "maximo = max(nova_lista)  # Encontra o maior elemento da lista\n",
    "print(minimo)\n",
    "print(maximo)"
   ]
  },
  {
   "cell_type": "code",
   "execution_count": null,
   "metadata": {},
   "outputs": [],
   "source": [
    "media = sum(nova_lista) / len(nova_lista)  # Calcula a média dos elementos na lista\n",
    "media"
   ]
  },
  {
   "cell_type": "code",
   "execution_count": null,
   "metadata": {},
   "outputs": [],
   "source": [
    "### 8. Ordenação de uma Lista:\n",
    "nova_lista.sort()  # Ordena a lista em ordem crescente\n",
    "nova_lista"
   ]
  },
  {
   "cell_type": "code",
   "execution_count": null,
   "metadata": {},
   "outputs": [],
   "source": [
    "### 10. Contagem de Elementos:\n",
    "\n",
    "quantidade = lista.count(4)  # Conta quantas vezes o elemento 4 aparece na lista\n",
    "quantidade"
   ]
  },
  {
   "cell_type": "code",
   "execution_count": null,
   "metadata": {},
   "outputs": [],
   "source": [
    "### 11. Verificação de Existência de Elementos:\n",
    "\n",
    "\n",
    "existe = 6 in lista  # Verifica se o elemento 6 está presente na lista\n",
    "existe"
   ]
  },
  {
   "attachments": {},
   "cell_type": "markdown",
   "metadata": {},
   "source": [
    "# <a id = \"e5\"><font color='#005b96'>Exercício 5</font></a>"
   ]
  },
  {
   "attachments": {},
   "cell_type": "markdown",
   "metadata": {},
   "source": [
    "Crie uma lista com 10 elementos e calcule a média dos 5 primeiros a soma dos 4 últimos e a média de todos"
   ]
  },
  {
   "cell_type": "code",
   "execution_count": null,
   "metadata": {},
   "outputs": [],
   "source": [
    "# escreva seu código aqui"
   ]
  },
  {
   "attachments": {},
   "cell_type": "markdown",
   "metadata": {},
   "source": [
    "---"
   ]
  },
  {
   "attachments": {},
   "cell_type": "markdown",
   "metadata": {},
   "source": [
    "# <a id = \"func\"><font color='#005b96'>**Funções**</font></a>"
   ]
  },
  {
   "attachments": {},
   "cell_type": "markdown",
   "metadata": {},
   "source": [
    "Em Python, uma função é um bloco de código reutilizável que executa uma tarefa específica quando chamado.\n",
    "O uso de funções promove a modularidade do código, permitindo que blocos de código sejam reutilizados em diferentes partes do programa, tornando o código mais legível e fácil de manter.\n",
    "\n",
    "### 1. Definição de Função:\n",
    "\n",
    "Para definir uma função em Python, usamos a palavra-chave `def`, seguida pelo nome da função e, entre parênteses, quaisquer parâmetros que a função possa receber. O corpo da função é indentado e contém o código a ser executado quando a função é chamada.\n",
    "\n",
    "```python\n",
    "def minha_funcao(parametro1, parametro2):\n",
    "    # Corpo da função\n",
    "    resultado = parametro1 + parametro2\n",
    "    return resultado\n",
    "```\n",
    "\n",
    "### 2. Chamada de Função:\n",
    "\n",
    "Para chamar uma função em Python, simplesmente usamos o nome da função seguido pelos parênteses contendo quaisquer argumentos necessários.\n",
    "\n",
    "```python\n",
    "resultado = minha_funcao(10, 20)\n",
    "print(resultado)  # Saída: 30\n",
    "```\n",
    "\n",
    "### 3. Parâmetros e Argumentos:\n",
    "\n",
    "- **Parâmetros**: São os nomes dados às informações que a função espera receber. Eles são definidos na declaração da função.\n",
    "- **Argumentos**: São os valores reais passados para a função quando ela é chamada.\n",
    "\n",
    "### 4. Retorno de Valores:\n",
    "\n",
    "- Uma função pode opcionalmente retornar um valor usando a palavra-chave `return`. Se `return` for omitido, a função retornará `None` por padrão.\n",
    "\n",
    "### 5. Escopo de Variáveis:\n",
    "\n",
    "- Variáveis definidas dentro de uma função só podem ser acessadas dentro da própria função (escopo local), a menos que sejam declaradas como globais usando a palavra-chave `global`.\n",
    "\n",
    "### 6. Docstrings:\n",
    "\n",
    "- É uma boa prática incluir uma docstring, uma string de documentação, logo após a definição da função, descrevendo o propósito da função, os parâmetros que ela recebe e o que ela retorna.\n",
    "\n",
    "```python\n",
    "def minha_funcao(parametro1, parametro2):\n",
    "    \"\"\"\n",
    "    Esta função realiza a adição de dois números.\n",
    "\n",
    "    Parâmetros:\n",
    "    parametro1 (int): O primeiro número a ser somado.\n",
    "    parametro2 (int): O segundo número a ser somado.\n",
    "\n",
    "    Retorna:\n",
    "    int: A soma dos dois números.\n",
    "    \"\"\"\n",
    "    resultado = parametro1 + parametro2\n",
    "    return resultado\n",
    "```"
   ]
  },
  {
   "cell_type": "code",
   "execution_count": null,
   "metadata": {},
   "outputs": [],
   "source": [
    "def soma(a,b):\n",
    "    z = a + b\n",
    "    return z"
   ]
  },
  {
   "cell_type": "code",
   "execution_count": null,
   "metadata": {},
   "outputs": [],
   "source": [
    "soma(5,7)"
   ]
  },
  {
   "attachments": {},
   "cell_type": "markdown",
   "metadata": {},
   "source": [
    "---"
   ]
  },
  {
   "attachments": {},
   "cell_type": "markdown",
   "metadata": {},
   "source": [
    "# <a id = \"e6\"><font color='#005b96'>Exercício 6</font></a>"
   ]
  },
  {
   "attachments": {},
   "cell_type": "markdown",
   "metadata": {},
   "source": [
    "Escreva uma função que recebe uma lista calcula a média da lista, a soma dos quadrados dos números e retorne os valores em também em uma lista"
   ]
  },
  {
   "cell_type": "code",
   "execution_count": null,
   "metadata": {},
   "outputs": [],
   "source": [
    "#escreva seu codigo aqui"
   ]
  },
  {
   "attachments": {},
   "cell_type": "markdown",
   "metadata": {},
   "source": [
    "---"
   ]
  },
  {
   "attachments": {},
   "cell_type": "markdown",
   "metadata": {},
   "source": [
    "# <a id = \"lc\"><font color='#005b96'>**List comprehension**</font></a>"
   ]
  },
  {
   "attachments": {},
   "cell_type": "markdown",
   "metadata": {},
   "source": [
    "List comprehension é uma maneira concisa e elegante de criar listas em Python. Ela permite criar listas a partir de sequências existentes, aplicando operações a cada item da sequência. List comprehensions são uma abordagem mais compacta e legível em comparação com o uso de loops `for`.\n",
    "\n",
    "A sintaxe básica de uma list comprehension é:\n",
    "\n",
    "```python\n",
    "[expressão for item in sequência]\n",
    "```\n",
    "\n",
    "onde `expressão` é uma operação a ser aplicada a cada `item` na `sequência`.\n"
   ]
  },
  {
   "cell_type": "code",
   "execution_count": null,
   "metadata": {},
   "outputs": [],
   "source": [
    "lista = [1,2,3,4,5,6,7,8,9,10]\n",
    "quadrados = [x ** 2 for x in lista]\n",
    "print(quadrados)  "
   ]
  },
  {
   "cell_type": "code",
   "execution_count": null,
   "metadata": {},
   "outputs": [],
   "source": [
    "[obj**2 for obj in lista if obj%2==1]"
   ]
  },
  {
   "attachments": {},
   "cell_type": "markdown",
   "metadata": {},
   "source": [
    "---"
   ]
  },
  {
   "attachments": {},
   "cell_type": "markdown",
   "metadata": {},
   "source": [
    "# <a id = \"en\"><font color='#005b96'>**Enumerate**</font></a>"
   ]
  },
  {
   "attachments": {},
   "cell_type": "markdown",
   "metadata": {},
   "source": [
    "A função `enumerate()` em Python é uma função integrada que permite iterar sobre uma sequência (como uma lista, tupla ou string) ao mesmo tempo em que fornece um índice para cada item na sequência. Ela retorna um objeto enumerado que produz tuplas contendo um contador (o índice) e o valor correspondente de cada item na sequência.\n",
    "\n",
    "A sintaxe básica da função `enumerate()` é:\n",
    "\n",
    "```python\n",
    "enumerate(iterável, start=0)\n",
    "```\n",
    "\n",
    "onde `iterável` é a sequência que você deseja iterar e `start` é o valor inicial do contador (por padrão, começa em 0)."
   ]
  },
  {
   "cell_type": "code",
   "execution_count": null,
   "metadata": {},
   "outputs": [],
   "source": [
    "### enumerate\n",
    "\n",
    "for i, obj in enumerate(lista):\n",
    "    print(i,obj)"
   ]
  },
  {
   "attachments": {},
   "cell_type": "markdown",
   "metadata": {},
   "source": [
    "---"
   ]
  },
  {
   "attachments": {},
   "cell_type": "markdown",
   "metadata": {},
   "source": [
    "# <a id = \"fm\"><font color='#005b96'>**Função Map**</font></a>\n"
   ]
  },
  {
   "attachments": {},
   "cell_type": "markdown",
   "metadata": {},
   "source": [
    "A função `map()` em Python é uma função integrada que permite aplicar uma função a cada item de uma ou mais sequências (por exemplo, listas, tuplas, etc.) e retorna um iterador que produz os resultados dessas aplicações.\n",
    "\n",
    "A sintaxe básica da função `map()` é:\n",
    "\n",
    "```python\n",
    "map(função, iterável1, iterável2, ...)\n",
    "```\n",
    "\n",
    "onde `função` é a função a ser aplicada a cada item e `iterável1`, `iterável2`, etc. são as sequências de entrada."
   ]
  },
  {
   "cell_type": "code",
   "execution_count": null,
   "metadata": {},
   "outputs": [],
   "source": [
    "def quadrado(a):\n",
    "    a = a**2\n",
    "    return a"
   ]
  },
  {
   "cell_type": "code",
   "execution_count": null,
   "metadata": {},
   "outputs": [],
   "source": [
    "#função map\n",
    "lista = [1,2,3,4,5,6,7,8,9,10]\n",
    "quadrado(lista)"
   ]
  },
  {
   "cell_type": "code",
   "execution_count": null,
   "metadata": {},
   "outputs": [],
   "source": [
    "list(map(quadrado, lista))"
   ]
  },
  {
   "attachments": {},
   "cell_type": "markdown",
   "metadata": {},
   "source": [
    "---"
   ]
  },
  {
   "attachments": {},
   "cell_type": "markdown",
   "metadata": {},
   "source": [
    "# <a id = \"fl\"><font color='#005b96'>**Funções Lambda**</font></a>\n",
    "\n",
    "\n",
    "Em Python, as funções lambda são funções anônimas de uma única expressão que podem ser usadas onde funções normais são necessárias. Elas são úteis principalmente quando você precisa de uma função temporária para uma operação simples e não deseja definir uma função usando a palavra-chave `def`.\n",
    "\n",
    "A sintaxe básica de uma função lambda é:\n",
    "\n",
    "```python\n",
    "lambda argumentos: expressão\n",
    "```\n"
   ]
  },
  {
   "cell_type": "code",
   "execution_count": null,
   "metadata": {},
   "outputs": [],
   "source": [
    "square = lambda x: x ** 2\n",
    "print(square(5))  # Saída: 25"
   ]
  },
  {
   "cell_type": "code",
   "execution_count": null,
   "metadata": {},
   "outputs": [],
   "source": [
    "addition = lambda x, y: x + y\n",
    "print(addition(3, 5))  # Saída: 8"
   ]
  },
  {
   "cell_type": "code",
   "execution_count": null,
   "metadata": {},
   "outputs": [],
   "source": [
    "numeros = [1, 2, 3, 4, 5]\n",
    "dobro = list(map(lambda x: x * 2, numeros))\n",
    "print(dobro)  # Saída: [2, 4, 6, 8, 10]"
   ]
  },
  {
   "attachments": {},
   "cell_type": "markdown",
   "metadata": {},
   "source": [
    "---"
   ]
  },
  {
   "attachments": {},
   "cell_type": "markdown",
   "metadata": {},
   "source": [
    "# <a id = \"ds\"><font color='#005b96'>**Desafio**</font></a>"
   ]
  },
  {
   "attachments": {},
   "cell_type": "markdown",
   "metadata": {},
   "source": [
    "faça uma função que receba um lista de 10 números. a função deve somar 10 a cada um dos números, se os numeros estiverem entre 5 e 50 a função deve retornar uma lista apenas com os números pares"
   ]
  },
  {
   "cell_type": "code",
   "execution_count": null,
   "metadata": {},
   "outputs": [],
   "source": [
    "# escreva seu código aqui"
   ]
  },
  {
   "attachments": {},
   "cell_type": "markdown",
   "metadata": {},
   "source": [
    "---"
   ]
  }
 ],
 "metadata": {
  "kernelspec": {
   "display_name": "Python 3",
   "language": "python",
   "name": "python3"
  },
  "language_info": {
   "codemirror_mode": {
    "name": "ipython",
    "version": 3
   },
   "file_extension": ".py",
   "mimetype": "text/x-python",
   "name": "python",
   "nbconvert_exporter": "python",
   "pygments_lexer": "ipython3",
   "version": "3.9.18"
  },
  "orig_nbformat": 4
 },
 "nbformat": 4,
 "nbformat_minor": 2
}
